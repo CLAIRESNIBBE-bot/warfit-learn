{
  "nbformat": 4,
  "nbformat_minor": 0,
  "metadata": {
    "colab": {
      "name": "warfit_learn_tutorial.ipynb",
      "version": "0.3.2",
      "provenance": [],
      "collapsed_sections": []
    },
    "kernelspec": {
      "name": "python3",
      "display_name": "Python 3"
    }
  },
  "cells": [
    {
      "cell_type": "markdown",
      "metadata": {
        "id": "_cDz6dPgvWut",
        "colab_type": "text"
      },
      "source": [
        "# Getting started with [warfit-learn](https://github.com/gianlucatruda/warfit-learn)\n",
        "\n",
        "A toolkit for reproducible research in warfarin dose estimation."
      ]
    },
    {
      "cell_type": "code",
      "metadata": {
        "id": "dwe3Zxg9vJPs",
        "colab_type": "code",
        "colab": {}
      },
      "source": [
        "%matplotlib inline"
      ],
      "execution_count": 0,
      "outputs": []
    },
    {
      "cell_type": "markdown",
      "metadata": {
        "id": "xmazkiQ1v3Mw",
        "colab_type": "text"
      },
      "source": [
        "First we will install warfit-learn from PyPi using `pip`, then import a few basic supporting libaries."
      ]
    },
    {
      "cell_type": "code",
      "metadata": {
        "id": "3u6VU8rnqfC6",
        "colab_type": "code",
        "colab": {}
      },
      "source": [
        "pip install warfit-learn"
      ],
      "execution_count": 0,
      "outputs": []
    },
    {
      "cell_type": "code",
      "metadata": {
        "id": "zzJ08lZyrQEJ",
        "colab_type": "code",
        "colab": {}
      },
      "source": [
        "import sklearn\n",
        "import pandas as pd\n",
        "import numpy as np"
      ],
      "execution_count": 0,
      "outputs": []
    },
    {
      "cell_type": "markdown",
      "metadata": {
        "id": "uojkZ3GzvnK2",
        "colab_type": "text"
      },
      "source": [
        "## Loading and preparing the IWPC dataset"
      ]
    },
    {
      "cell_type": "code",
      "metadata": {
        "id": "un9K3n_brl3o",
        "colab_type": "code",
        "colab": {
          "base_uri": "https://localhost:8080/",
          "height": 34
        },
        "outputId": "94c6e6e2-0ad0-417d-c874-8336a353c275"
      },
      "source": [
        "from warfit_learn import datasets, preprocessing\n",
        "\n",
        "raw_iwpc = datasets.load_iwpc()\n",
        "data = preprocessing.prepare_iwpc(raw_iwpc)\n",
        "data.shape"
      ],
      "execution_count": 26,
      "outputs": [
        {
          "output_type": "execute_result",
          "data": {
            "text/plain": [
              "(5741, 32)"
            ]
          },
          "metadata": {
            "tags": []
          },
          "execution_count": 26
        }
      ]
    },
    {
      "cell_type": "markdown",
      "metadata": {
        "id": "pvJP86ZGwLGE",
        "colab_type": "text"
      },
      "source": [
        "## Creating models"
      ]
    },
    {
      "cell_type": "markdown",
      "metadata": {
        "id": "ew3ixoO9wU-x",
        "colab_type": "text"
      },
      "source": [
        "First, we import two regression estimators from [scikit-learn](https://github.com/gianlucatruda/warfit-learn), which is fully supported by warfit-learn.\n",
        "\n",
        "We then instantiate a list of these estimators and give them descriptive labels of our choosing:\n",
        "\n",
        "1.   `LR` for linear regression\n",
        "2.   `SVR` for support vector regression\n",
        "\n",
        "We can configure the estimators however we like and warfit-learn will execute them as instantiated. For instance, we may want to specify that the SVR estimator should use an `epsilon_insensitive` loss function.\n",
        "\n"
      ]
    },
    {
      "cell_type": "code",
      "metadata": {
        "id": "vgL7EFSKrbaW",
        "colab_type": "code",
        "colab": {}
      },
      "source": [
        "from sklearn.linear_model import LinearRegression\n",
        "from sklearn.svm import LinearSVR\n",
        "\n",
        "from warfit_learn.estimators import Estimator\n",
        "\n",
        "my_models = [\n",
        "    Estimator(LinearRegression(), 'LR'),\n",
        "    Estimator(LinearSVR(loss='epsilon_insensitive'), 'SVR'),\n",
        "]"
      ],
      "execution_count": 0,
      "outputs": []
    },
    {
      "cell_type": "markdown",
      "metadata": {
        "id": "C_KD9XOmxuAP",
        "colab_type": "text"
      },
      "source": [
        "# Evaluating models"
      ]
    },
    {
      "cell_type": "markdown",
      "metadata": {
        "id": "qaVkxZgTx3VD",
        "colab_type": "text"
      },
      "source": [
        "We will now evaluate our collection of models (estimators) using the `evaluate_esimators()` function from `warfit_learn.evaluation`. \n",
        "\n",
        "We provide it with the list of our estimators and the cleaned and formatted IWPC dataset from earlier. \n",
        "\n",
        "By specifying `parallelism=0.5` we are using 50% of our CPU capacity. We have set `resamples=10` so that each of our estimators is evaluated 10 times. "
      ]
    },
    {
      "cell_type": "code",
      "metadata": {
        "id": "xQNojrrXs19Z",
        "colab_type": "code",
        "colab": {
          "base_uri": "https://localhost:8080/",
          "height": 323
        },
        "outputId": "2f3aedc1-8854-4e2f-8f94-681208b0e079"
      },
      "source": [
        "from warfit_learn.evaluation import evaluate_estimators\n",
        "\n",
        "results = evaluate_estimators(\n",
        "    my_models,\n",
        "    data,\n",
        "    parallelism=0.5,\n",
        "    resamples=10,\n",
        ")"
      ],
      "execution_count": 33,
      "outputs": [
        {
          "output_type": "stream",
          "text": [
            "Using 1 / 2 CPU cores...\n",
            "\n",
            "LR...\n",
            "   PW20      MAE        R2\n",
            "-------  -------  --------\n",
            "45.4047  8.70827  0.436191\n",
            "\n",
            "SVR...\n",
            "   PW20      MAE        R2\n",
            "-------  -------  --------\n",
            "45.6049  8.76897  0.448331\n",
            "\n",
            "\n",
            "                PW20       MAE        R2\n",
            "Estimator                               \n",
            "LR         45.404700  8.708271  0.436191\n",
            "SVR        45.604874  8.768972  0.448331\n",
            "\n"
          ],
          "name": "stdout"
        }
      ]
    },
    {
      "cell_type": "markdown",
      "metadata": {
        "id": "S7g4lnXiynfa",
        "colab_type": "text"
      },
      "source": [
        "As expected we now have a dataframe of results for each of the 20 trials we ran.\n",
        "\n",
        "Note that the data is shuffled and split into training- and validation- sets for each trial, so we get different results each time. "
      ]
    },
    {
      "cell_type": "code",
      "metadata": {
        "id": "-vcCxC4eyjEs",
        "colab_type": "code",
        "colab": {
          "base_uri": "https://localhost:8080/",
          "height": 669
        },
        "outputId": "a752b964-c1c4-4f24-f0e3-c114f0fd2198"
      },
      "source": [
        "results"
      ],
      "execution_count": 34,
      "outputs": [
        {
          "output_type": "execute_result",
          "data": {
            "text/html": [
              "<div>\n",
              "<style scoped>\n",
              "    .dataframe tbody tr th:only-of-type {\n",
              "        vertical-align: middle;\n",
              "    }\n",
              "\n",
              "    .dataframe tbody tr th {\n",
              "        vertical-align: top;\n",
              "    }\n",
              "\n",
              "    .dataframe thead th {\n",
              "        text-align: right;\n",
              "    }\n",
              "</style>\n",
              "<table border=\"1\" class=\"dataframe\">\n",
              "  <thead>\n",
              "    <tr style=\"text-align: right;\">\n",
              "      <th></th>\n",
              "      <th>Estimator</th>\n",
              "      <th>PW20</th>\n",
              "      <th>MAE</th>\n",
              "      <th>R2</th>\n",
              "    </tr>\n",
              "  </thead>\n",
              "  <tbody>\n",
              "    <tr>\n",
              "      <th>0</th>\n",
              "      <td>LR</td>\n",
              "      <td>46.040035</td>\n",
              "      <td>8.608396</td>\n",
              "      <td>0.433467</td>\n",
              "    </tr>\n",
              "    <tr>\n",
              "      <th>1</th>\n",
              "      <td>LR</td>\n",
              "      <td>44.647520</td>\n",
              "      <td>8.746329</td>\n",
              "      <td>0.435183</td>\n",
              "    </tr>\n",
              "    <tr>\n",
              "      <th>2</th>\n",
              "      <td>LR</td>\n",
              "      <td>44.473455</td>\n",
              "      <td>8.687267</td>\n",
              "      <td>0.401249</td>\n",
              "    </tr>\n",
              "    <tr>\n",
              "      <th>3</th>\n",
              "      <td>LR</td>\n",
              "      <td>48.389904</td>\n",
              "      <td>8.426658</td>\n",
              "      <td>0.496300</td>\n",
              "    </tr>\n",
              "    <tr>\n",
              "      <th>4</th>\n",
              "      <td>LR</td>\n",
              "      <td>44.386423</td>\n",
              "      <td>8.559872</td>\n",
              "      <td>0.466298</td>\n",
              "    </tr>\n",
              "    <tr>\n",
              "      <th>5</th>\n",
              "      <td>LR</td>\n",
              "      <td>46.040035</td>\n",
              "      <td>8.870254</td>\n",
              "      <td>0.389101</td>\n",
              "    </tr>\n",
              "    <tr>\n",
              "      <th>6</th>\n",
              "      <td>LR</td>\n",
              "      <td>43.951262</td>\n",
              "      <td>9.019582</td>\n",
              "      <td>0.437109</td>\n",
              "    </tr>\n",
              "    <tr>\n",
              "      <th>7</th>\n",
              "      <td>LR</td>\n",
              "      <td>45.169713</td>\n",
              "      <td>8.587634</td>\n",
              "      <td>0.439606</td>\n",
              "    </tr>\n",
              "    <tr>\n",
              "      <th>8</th>\n",
              "      <td>LR</td>\n",
              "      <td>46.301131</td>\n",
              "      <td>8.844159</td>\n",
              "      <td>0.463413</td>\n",
              "    </tr>\n",
              "    <tr>\n",
              "      <th>9</th>\n",
              "      <td>LR</td>\n",
              "      <td>44.647520</td>\n",
              "      <td>8.732555</td>\n",
              "      <td>0.400180</td>\n",
              "    </tr>\n",
              "    <tr>\n",
              "      <th>0</th>\n",
              "      <td>SVR</td>\n",
              "      <td>46.475196</td>\n",
              "      <td>8.945914</td>\n",
              "      <td>0.440443</td>\n",
              "    </tr>\n",
              "    <tr>\n",
              "      <th>1</th>\n",
              "      <td>SVR</td>\n",
              "      <td>44.734552</td>\n",
              "      <td>8.759766</td>\n",
              "      <td>0.426778</td>\n",
              "    </tr>\n",
              "    <tr>\n",
              "      <th>2</th>\n",
              "      <td>SVR</td>\n",
              "      <td>45.343777</td>\n",
              "      <td>8.441872</td>\n",
              "      <td>0.455176</td>\n",
              "    </tr>\n",
              "    <tr>\n",
              "      <th>3</th>\n",
              "      <td>SVR</td>\n",
              "      <td>44.560487</td>\n",
              "      <td>9.099185</td>\n",
              "      <td>0.409133</td>\n",
              "    </tr>\n",
              "    <tr>\n",
              "      <th>4</th>\n",
              "      <td>SVR</td>\n",
              "      <td>44.995648</td>\n",
              "      <td>8.819733</td>\n",
              "      <td>0.458935</td>\n",
              "    </tr>\n",
              "    <tr>\n",
              "      <th>5</th>\n",
              "      <td>SVR</td>\n",
              "      <td>45.256745</td>\n",
              "      <td>8.625210</td>\n",
              "      <td>0.448845</td>\n",
              "    </tr>\n",
              "    <tr>\n",
              "      <th>6</th>\n",
              "      <td>SVR</td>\n",
              "      <td>45.517842</td>\n",
              "      <td>8.924260</td>\n",
              "      <td>0.472657</td>\n",
              "    </tr>\n",
              "    <tr>\n",
              "      <th>7</th>\n",
              "      <td>SVR</td>\n",
              "      <td>43.603133</td>\n",
              "      <td>8.888618</td>\n",
              "      <td>0.441083</td>\n",
              "    </tr>\n",
              "    <tr>\n",
              "      <th>8</th>\n",
              "      <td>SVR</td>\n",
              "      <td>47.171453</td>\n",
              "      <td>8.492168</td>\n",
              "      <td>0.495334</td>\n",
              "    </tr>\n",
              "    <tr>\n",
              "      <th>9</th>\n",
              "      <td>SVR</td>\n",
              "      <td>48.389904</td>\n",
              "      <td>8.692995</td>\n",
              "      <td>0.434922</td>\n",
              "    </tr>\n",
              "  </tbody>\n",
              "</table>\n",
              "</div>"
            ],
            "text/plain": [
              "  Estimator       PW20       MAE        R2\n",
              "0        LR  46.040035  8.608396  0.433467\n",
              "1        LR  44.647520  8.746329  0.435183\n",
              "2        LR  44.473455  8.687267  0.401249\n",
              "3        LR  48.389904  8.426658  0.496300\n",
              "4        LR  44.386423  8.559872  0.466298\n",
              "5        LR  46.040035  8.870254  0.389101\n",
              "6        LR  43.951262  9.019582  0.437109\n",
              "7        LR  45.169713  8.587634  0.439606\n",
              "8        LR  46.301131  8.844159  0.463413\n",
              "9        LR  44.647520  8.732555  0.400180\n",
              "0       SVR  46.475196  8.945914  0.440443\n",
              "1       SVR  44.734552  8.759766  0.426778\n",
              "2       SVR  45.343777  8.441872  0.455176\n",
              "3       SVR  44.560487  9.099185  0.409133\n",
              "4       SVR  44.995648  8.819733  0.458935\n",
              "5       SVR  45.256745  8.625210  0.448845\n",
              "6       SVR  45.517842  8.924260  0.472657\n",
              "7       SVR  43.603133  8.888618  0.441083\n",
              "8       SVR  47.171453  8.492168  0.495334\n",
              "9       SVR  48.389904  8.692995  0.434922"
            ]
          },
          "metadata": {
            "tags": []
          },
          "execution_count": 34
        }
      ]
    },
    {
      "cell_type": "markdown",
      "metadata": {
        "id": "dfP28hc2y5wj",
        "colab_type": "text"
      },
      "source": [
        "We can summarise these results easily by grouping them on the `Estimator` column and specifying that we want them to be aggregated by `mean` value. We could also specify the `max` or `min` value, or apply any other function of our choice."
      ]
    },
    {
      "cell_type": "code",
      "metadata": {
        "id": "V5l5sdFhtbj0",
        "colab_type": "code",
        "colab": {
          "base_uri": "https://localhost:8080/",
          "height": 142
        },
        "outputId": "6f0480cb-5abe-4467-c1a8-ce268914c070"
      },
      "source": [
        "summary = results.groupby('Estimator').apply(np.mean)\n",
        "summary"
      ],
      "execution_count": 35,
      "outputs": [
        {
          "output_type": "execute_result",
          "data": {
            "text/html": [
              "<div>\n",
              "<style scoped>\n",
              "    .dataframe tbody tr th:only-of-type {\n",
              "        vertical-align: middle;\n",
              "    }\n",
              "\n",
              "    .dataframe tbody tr th {\n",
              "        vertical-align: top;\n",
              "    }\n",
              "\n",
              "    .dataframe thead th {\n",
              "        text-align: right;\n",
              "    }\n",
              "</style>\n",
              "<table border=\"1\" class=\"dataframe\">\n",
              "  <thead>\n",
              "    <tr style=\"text-align: right;\">\n",
              "      <th></th>\n",
              "      <th>PW20</th>\n",
              "      <th>MAE</th>\n",
              "      <th>R2</th>\n",
              "    </tr>\n",
              "    <tr>\n",
              "      <th>Estimator</th>\n",
              "      <th></th>\n",
              "      <th></th>\n",
              "      <th></th>\n",
              "    </tr>\n",
              "  </thead>\n",
              "  <tbody>\n",
              "    <tr>\n",
              "      <th>LR</th>\n",
              "      <td>45.404700</td>\n",
              "      <td>8.708271</td>\n",
              "      <td>0.436191</td>\n",
              "    </tr>\n",
              "    <tr>\n",
              "      <th>SVR</th>\n",
              "      <td>45.604874</td>\n",
              "      <td>8.768972</td>\n",
              "      <td>0.448331</td>\n",
              "    </tr>\n",
              "  </tbody>\n",
              "</table>\n",
              "</div>"
            ],
            "text/plain": [
              "                PW20       MAE        R2\n",
              "Estimator                               \n",
              "LR         45.404700  8.708271  0.436191\n",
              "SVR        45.604874  8.768972  0.448331"
            ]
          },
          "metadata": {
            "tags": []
          },
          "execution_count": 35
        }
      ]
    },
    {
      "cell_type": "markdown",
      "metadata": {
        "id": "0EwdQ4YizQQQ",
        "colab_type": "text"
      },
      "source": [
        "Becuase of warfit-learn's seamless integration with the Python scientific stack, Pandas, and scikit-learn, producing plots of our results is easy."
      ]
    },
    {
      "cell_type": "code",
      "metadata": {
        "id": "eEJLjrhHucdC",
        "colab_type": "code",
        "colab": {
          "base_uri": "https://localhost:8080/",
          "height": 310
        },
        "outputId": "1504268d-b95f-4de5-de89-be12c3a09680"
      },
      "source": [
        "summary[['PW20', 'MAE']].plot(kind='bar')"
      ],
      "execution_count": 36,
      "outputs": [
        {
          "output_type": "execute_result",
          "data": {
            "text/plain": [
              "<matplotlib.axes._subplots.AxesSubplot at 0x7f73d181f2e8>"
            ]
          },
          "metadata": {
            "tags": []
          },
          "execution_count": 36
        },
        {
          "output_type": "display_data",
          "data": {
            "image/png": "[encoded data removed]",
            "text/plain": [
              "<Figure size 432x288 with 1 Axes>"
            ]
          },
          "metadata": {
            "tags": []
          }
        }
      ]
    },
    {
      "cell_type": "markdown",
      "metadata": {
        "id": "452zYvipvqIg",
        "colab_type": "text"
      },
      "source": [
        "**Copyright (C) 2019 Gianluca Truda**\n",
        "\n",
        "This program is free software: you can redistribute it and/or modify\n",
        "it under the terms of the GNU General Public License as published by\n",
        "the Free Software Foundation, either version 3 of the License, or\n",
        "(at your option) any later version.\n",
        "\n",
        "This program is distributed in the hope that it will be useful,\n",
        "but WITHOUT ANY WARRANTY; without even the implied warranty of\n",
        "MERCHANTABILITY or FITNESS FOR A PARTICULAR PURPOSE. See the\n",
        "GNU General Public License for more details.\n",
        "\n",
        "You should have received a copy of the GNU General Public License\n",
        "along with this program.  If not, see <https://www.gnu.org/licenses/>."
      ]
    }
  ]
}