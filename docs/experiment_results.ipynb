{
  "nbformat": 4,
  "nbformat_minor": 0,
  "metadata": {
    "colab": {
      "name": "warfit_experiment_results_publication.ipynb",
      "version": "0.3.2",
      "provenance": [],
      "collapsed_sections": []
    },
    "kernelspec": {
      "name": "python3",
      "display_name": "Python 3"
    }
  },
  "cells": [
    {
      "cell_type": "markdown",
      "metadata": {
        "id": "Sv9q5lzHXkfn",
        "colab_type": "text"
      },
      "source": [
        "# Experimental Results using warfit-learn\n",
        "\n",
        "Project page: [pypi.org/project/warfit-learn/](http://pypi.org/project/warfit-learn/)"
      ]
    },
    {
      "cell_type": "markdown",
      "metadata": {
        "id": "mwRafiFDXsBj",
        "colab_type": "text"
      },
      "source": [
        "Import dependencies and configure environment"
      ]
    },
    {
      "cell_type": "code",
      "metadata": {
        "id": "HbcABVj3fpkD",
        "colab_type": "code",
        "colab": {}
      },
      "source": [
        "%matplotlib inline\n",
        "%load_ext autoreload\n",
        "%autoreload 2"
      ],
      "execution_count": 0,
      "outputs": []
    },
    {
      "cell_type": "code",
      "metadata": {
        "id": "PQ7Aov6qWd60",
        "colab_type": "code",
        "colab": {}
      },
      "source": [
        "import pandas as pd\n",
        "import numpy as np\n",
        "from matplotlib import pyplot as plt\n",
        "import seaborn as sns\n",
        "import sklearn\n",
        "\n",
        "import warfit_learn"
      ],
      "execution_count": 0,
      "outputs": []
    },
    {
      "cell_type": "code",
      "metadata": {
        "id": "SWy5V4sXipwc",
        "colab_type": "code",
        "colab": {}
      },
      "source": [
        "pd.set_option('mode.chained_assignment', None)"
      ],
      "execution_count": 0,
      "outputs": []
    },
    {
      "cell_type": "markdown",
      "metadata": {
        "id": "EYeaq-s1YII2",
        "colab_type": "text"
      },
      "source": [
        "Load the IWPC and PathCare datasets"
      ]
    },
    {
      "cell_type": "code",
      "metadata": {
        "id": "YOgKBbxoX6XS",
        "colab_type": "code",
        "colab": {}
      },
      "source": [
        "from warfit_learn import datasets\n",
        "iwpc_data = datasets.load_iwpc()\n",
        "\n",
        "path_data = pd.read_csv('datasets/RAW/PathCare/PATH-whole.csv')"
      ],
      "execution_count": 0,
      "outputs": []
    },
    {
      "cell_type": "code",
      "metadata": {
        "id": "h3G20-bgYjyA",
        "colab_type": "code",
        "outputId": "6be408ee-b27f-498f-99c9-799ee06b23d7",
        "colab": {
          "base_uri": "https://localhost:8080/",
          "height": 34
        }
      },
      "source": [
        "iwpc_data.shape, path_data.shape"
      ],
      "execution_count": 0,
      "outputs": [
        {
          "output_type": "execute_result",
          "data": {
            "text/plain": [
              "((6256, 68), (8985, 38))"
            ]
          },
          "metadata": {
            "tags": []
          },
          "execution_count": 28
        }
      ]
    },
    {
      "cell_type": "markdown",
      "metadata": {
        "id": "n-KqLVIDYybA",
        "colab_type": "text"
      },
      "source": [
        "Preprocess the IWPC data in the style of [Ma et a. 2018](https://journals.plos.org/plosone/article/comments?id=10.1371/journal.pone.0205872), and generate an ML-ready version by vectorising categoricals and dropping unused features."
      ]
    },
    {
      "cell_type": "code",
      "metadata": {
        "id": "43e-ndheYs8W",
        "colab_type": "code",
        "outputId": "30a60650-e23a-4531-8d79-67580fe21582",
        "colab": {
          "base_uri": "https://localhost:8080/",
          "height": 34
        }
      },
      "source": [
        "from warfit_learn import preprocessing\n",
        "\n",
        "iwpc_inspect = preprocessing.clean_iwpc(iwpc_data)\n",
        "iwpc = preprocessing.prepare_iwpc(iwpc_data, drop_inr=False)\n",
        "iwpc.shape, iwpc_inspect.shape"
      ],
      "execution_count": 0,
      "outputs": [
        {
          "output_type": "execute_result",
          "data": {
            "text/plain": [
              "((5741, 33), (5741, 70))"
            ]
          },
          "metadata": {
            "tags": []
          },
          "execution_count": 29
        }
      ]
    },
    {
      "cell_type": "markdown",
      "metadata": {
        "id": "L9_W59opZFNu",
        "colab_type": "text"
      },
      "source": [
        "Remove the non-therapeutic data from the PathCare dataset and select features"
      ]
    },
    {
      "cell_type": "code",
      "metadata": {
        "id": "KezZC-dtZAMc",
        "colab_type": "code",
        "outputId": "3c4345b0-d368-4de5-dee0-80eac71cf24a",
        "colab": {
          "base_uri": "https://localhost:8080/",
          "height": 204
        }
      },
      "source": [
        "path = path_data[path_data['isInTherapeutic'] == 1].drop(['patientID', 'requestID'], axis='columns')\n",
        "path.shape\n",
        "\n",
        "path = path[[\n",
        "    \"sex\",\n",
        "    \"dob\",\n",
        "    \"aspirin\",\n",
        "    \"paracetamol\",\n",
        "    \"amiodarone\",\n",
        "    \"atrialFibrilation\",\n",
        "    \"deepVeinThrombosis\",\n",
        "    \"valveReplacement\",\n",
        "    \"takenDoseWeek\",\n",
        "    \"inr\",\n",
        "]].dropna()\n",
        "\n",
        "\n",
        "path = pd.concat([path, pd.get_dummies(path['sex'])], axis=1, sort=False)\n",
        "path.drop(['sex'], axis='columns', inplace=True)\n",
        "\n",
        "path.head()"
      ],
      "execution_count": 0,
      "outputs": [
        {
          "output_type": "execute_result",
          "data": {
            "text/plain": [
              "     dob  aspirin  paracetamol  amiodarone  atrialFibrilation  \\\n",
              "1   1937        0            0           0                  1   \n",
              "5   1935        0            0           0                  1   \n",
              "11  1946        0            0           0                  0   \n",
              "13  1927        0            1           0                  1   \n",
              "20  1961        0            0           0                  0   \n",
              "\n",
              "    deepVeinThrombosis  valveReplacement  takenDoseWeek  inr  F  M  \n",
              "1                    0                 0           45.0  3.0  0  1  \n",
              "5                    0                 0           35.0  2.1  0  1  \n",
              "11                   0                 0           17.5  2.2  1  0  \n",
              "13                   0                 0           22.5  2.7  1  0  \n",
              "20                   0                 0           47.5  2.2  1  0  "
            ],
            "text/html": [
              "<div>\n",
              "<style scoped>\n",
              "    .dataframe tbody tr th:only-of-type {\n",
              "        vertical-align: middle;\n",
              "    }\n",
              "\n",
              "    .dataframe tbody tr th {\n",
              "        vertical-align: top;\n",
              "    }\n",
              "\n",
              "    .dataframe thead th {\n",
              "        text-align: right;\n",
              "    }\n",
              "</style>\n",
              "<table border=\"1\" class=\"dataframe\">\n",
              "  <thead>\n",
              "    <tr style=\"text-align: right;\">\n",
              "      <th></th>\n",
              "      <th>dob</th>\n",
              "      <th>aspirin</th>\n",
              "      <th>paracetamol</th>\n",
              "      <th>amiodarone</th>\n",
              "      <th>atrialFibrilation</th>\n",
              "      <th>deepVeinThrombosis</th>\n",
              "      <th>valveReplacement</th>\n",
              "      <th>takenDoseWeek</th>\n",
              "      <th>inr</th>\n",
              "      <th>F</th>\n",
              "      <th>M</th>\n",
              "    </tr>\n",
              "  </thead>\n",
              "  <tbody>\n",
              "    <tr>\n",
              "      <th>1</th>\n",
              "      <td>1937</td>\n",
              "      <td>0</td>\n",
              "      <td>0</td>\n",
              "      <td>0</td>\n",
              "      <td>1</td>\n",
              "      <td>0</td>\n",
              "      <td>0</td>\n",
              "      <td>45.0</td>\n",
              "      <td>3.0</td>\n",
              "      <td>0</td>\n",
              "      <td>1</td>\n",
              "    </tr>\n",
              "    <tr>\n",
              "      <th>5</th>\n",
              "      <td>1935</td>\n",
              "      <td>0</td>\n",
              "      <td>0</td>\n",
              "      <td>0</td>\n",
              "      <td>1</td>\n",
              "      <td>0</td>\n",
              "      <td>0</td>\n",
              "      <td>35.0</td>\n",
              "      <td>2.1</td>\n",
              "      <td>0</td>\n",
              "      <td>1</td>\n",
              "    </tr>\n",
              "    <tr>\n",
              "      <th>11</th>\n",
              "      <td>1946</td>\n",
              "      <td>0</td>\n",
              "      <td>0</td>\n",
              "      <td>0</td>\n",
              "      <td>0</td>\n",
              "      <td>0</td>\n",
              "      <td>0</td>\n",
              "      <td>17.5</td>\n",
              "      <td>2.2</td>\n",
              "      <td>1</td>\n",
              "      <td>0</td>\n",
              "    </tr>\n",
              "    <tr>\n",
              "      <th>13</th>\n",
              "      <td>1927</td>\n",
              "      <td>0</td>\n",
              "      <td>1</td>\n",
              "      <td>0</td>\n",
              "      <td>1</td>\n",
              "      <td>0</td>\n",
              "      <td>0</td>\n",
              "      <td>22.5</td>\n",
              "      <td>2.7</td>\n",
              "      <td>1</td>\n",
              "      <td>0</td>\n",
              "    </tr>\n",
              "    <tr>\n",
              "      <th>20</th>\n",
              "      <td>1961</td>\n",
              "      <td>0</td>\n",
              "      <td>0</td>\n",
              "      <td>0</td>\n",
              "      <td>0</td>\n",
              "      <td>0</td>\n",
              "      <td>0</td>\n",
              "      <td>47.5</td>\n",
              "      <td>2.2</td>\n",
              "      <td>1</td>\n",
              "      <td>0</td>\n",
              "    </tr>\n",
              "  </tbody>\n",
              "</table>\n",
              "</div>"
            ]
          },
          "metadata": {
            "tags": []
          },
          "execution_count": 30
        }
      ]
    },
    {
      "cell_type": "markdown",
      "metadata": {
        "id": "gcBveI9rZUSv",
        "colab_type": "text"
      },
      "source": [
        "Have a look at the features and types of both datasets"
      ]
    },
    {
      "cell_type": "code",
      "metadata": {
        "id": "eIXg_VO3ZROQ",
        "colab_type": "code",
        "outputId": "17409158-4e44-4917-c02e-3c2420807cb0",
        "colab": {
          "base_uri": "https://localhost:8080/",
          "height": 663
        }
      },
      "source": [
        "iwpc.info()"
      ],
      "execution_count": 0,
      "outputs": [
        {
          "output_type": "stream",
          "text": [
            "<class 'pandas.core.frame.DataFrame'>\n",
            "Int64Index: 5741 entries, 0 to 6255\n",
            "Data columns (total 33 columns):\n",
            "Height (cm)                                     5741 non-null float64\n",
            "Weight (kg)                                     5741 non-null float64\n",
            "Amiodarone (Cordarone)                          5741 non-null float64\n",
            "Carbamazepine (Tegretol)                        5741 non-null float64\n",
            "Phenytoin (Dilantin)                            5741 non-null float64\n",
            "Rifampin or Rifampicin                          5741 non-null float64\n",
            "Current Smoker                                  5741 non-null float64\n",
            "Therapeutic Dose of Warfarin                    5741 non-null float64\n",
            "INR on Reported Therapeutic Dose of Warfarin    5741 non-null float64\n",
            "Race (OMB)_Asian                                5741 non-null uint8\n",
            "Race (OMB)_Black or African American            5741 non-null uint8\n",
            "Race (OMB)_Unknown                              5741 non-null uint8\n",
            "Race (OMB)_White                                5741 non-null uint8\n",
            "Age_10 - 19                                     5741 non-null uint8\n",
            "Age_20 - 29                                     5741 non-null uint8\n",
            "Age_30 - 39                                     5741 non-null uint8\n",
            "Age_40 - 49                                     5741 non-null uint8\n",
            "Age_50 - 59                                     5741 non-null uint8\n",
            "Age_60 - 69                                     5741 non-null uint8\n",
            "Age_70 - 79                                     5741 non-null uint8\n",
            "Age_80 - 89                                     5741 non-null uint8\n",
            "Age_90+                                         5741 non-null uint8\n",
            "CYP2C9 consensus_*1/*1                          5741 non-null uint8\n",
            "CYP2C9 consensus_*1/*2                          5741 non-null uint8\n",
            "CYP2C9 consensus_*1/*3                          5741 non-null uint8\n",
            "CYP2C9 consensus_*2/*2                          5741 non-null uint8\n",
            "CYP2C9 consensus_*2/*3                          5741 non-null uint8\n",
            "CYP2C9 consensus_*3/*3                          5741 non-null uint8\n",
            "CYP2C9 consensus_Unknown                        5741 non-null uint8\n",
            "Imputed VKORC1_A/A                              5741 non-null uint8\n",
            "Imputed VKORC1_A/G                              5741 non-null uint8\n",
            "Imputed VKORC1_G/G                              5741 non-null uint8\n",
            "Imputed VKORC1_Unknown                          5741 non-null uint8\n",
            "dtypes: float64(9), uint8(24)\n",
            "memory usage: 583.1 KB\n"
          ],
          "name": "stdout"
        }
      ]
    },
    {
      "cell_type": "code",
      "metadata": {
        "id": "2bMsinqQZZ8S",
        "colab_type": "code",
        "outputId": "91aa4f10-2715-403f-a213-556b8bf94864",
        "colab": {
          "base_uri": "https://localhost:8080/",
          "height": 289
        }
      },
      "source": [
        "path.info()"
      ],
      "execution_count": 0,
      "outputs": [
        {
          "output_type": "stream",
          "text": [
            "<class 'pandas.core.frame.DataFrame'>\n",
            "Int64Index: 4621 entries, 1 to 8983\n",
            "Data columns (total 11 columns):\n",
            "dob                   4621 non-null int64\n",
            "aspirin               4621 non-null int64\n",
            "paracetamol           4621 non-null int64\n",
            "amiodarone            4621 non-null int64\n",
            "atrialFibrilation     4621 non-null int64\n",
            "deepVeinThrombosis    4621 non-null int64\n",
            "valveReplacement      4621 non-null int64\n",
            "takenDoseWeek         4621 non-null float64\n",
            "inr                   4621 non-null float64\n",
            "F                     4621 non-null uint8\n",
            "M                     4621 non-null uint8\n",
            "dtypes: float64(2), int64(7), uint8(2)\n",
            "memory usage: 370.0 KB\n"
          ],
          "name": "stdout"
        }
      ]
    },
    {
      "cell_type": "markdown",
      "metadata": {
        "id": "QBK1obZhZljw",
        "colab_type": "text"
      },
      "source": [
        "Examine the values and distributions of both datasets"
      ]
    },
    {
      "cell_type": "code",
      "metadata": {
        "id": "IwKzlVWbZapI",
        "colab_type": "code",
        "outputId": "caa0a8cd-0396-44eb-ae93-74fc0f466fe6",
        "colab": {
          "base_uri": "https://localhost:8080/",
          "height": 414
        }
      },
      "source": [
        "iwpc.describe()"
      ],
      "execution_count": 0,
      "outputs": [
        {
          "output_type": "execute_result",
          "data": {
            "text/plain": [
              "       Height (cm)  Weight (kg)  Amiodarone (Cordarone)  \\\n",
              "count  5741.000000  5741.000000             5741.000000   \n",
              "mean    167.979150    78.794878                0.048772   \n",
              "std      10.581973    22.316584                0.215410   \n",
              "min     124.970000    30.000000                0.000000   \n",
              "25%     160.020000    63.000000                0.000000   \n",
              "50%     167.640000    76.000000                0.000000   \n",
              "75%     175.790577    90.700000                0.000000   \n",
              "max     202.000000   237.700000                1.000000   \n",
              "\n",
              "       Carbamazepine (Tegretol)  Phenytoin (Dilantin)  Rifampin or Rifampicin  \\\n",
              "count               5741.000000           5741.000000             5741.000000   \n",
              "mean                   0.005574              0.004529                0.000697   \n",
              "std                    0.074457              0.067150                0.026389   \n",
              "min                    0.000000              0.000000                0.000000   \n",
              "25%                    0.000000              0.000000                0.000000   \n",
              "50%                    0.000000              0.000000                0.000000   \n",
              "75%                    0.000000              0.000000                0.000000   \n",
              "max                    1.000000              1.000000                1.000000   \n",
              "\n",
              "       Current Smoker  Therapeutic Dose of Warfarin  \\\n",
              "count     5741.000000                   5741.000000   \n",
              "mean         0.083957                     31.967232   \n",
              "std          0.277348                     16.765840   \n",
              "min          0.000000                      2.100000   \n",
              "25%          0.000000                     20.020000   \n",
              "50%          0.000000                     28.000000   \n",
              "75%          0.000000                     40.000000   \n",
              "max          1.000000                    230.000000   \n",
              "\n",
              "       INR on Reported Therapeutic Dose of Warfarin  Race (OMB)_Asian  ...  \\\n",
              "count                                   5741.000000       5741.000000  ...   \n",
              "mean                                       2.152263          0.263891  ...   \n",
              "std                                        0.815865          0.440779  ...   \n",
              "min                                        0.000000          0.000000  ...   \n",
              "25%                                        2.000000          0.000000  ...   \n",
              "50%                                        2.340000          0.000000  ...   \n",
              "75%                                        2.600000          1.000000  ...   \n",
              "max                                        6.100000          1.000000  ...   \n",
              "\n",
              "       CYP2C9 consensus_*1/*2  CYP2C9 consensus_*1/*3  CYP2C9 consensus_*2/*2  \\\n",
              "count             5741.000000             5741.000000             5741.000000   \n",
              "mean                 0.131510                0.083957                0.010103   \n",
              "std                  0.337987                0.277348                0.100012   \n",
              "min                  0.000000                0.000000                0.000000   \n",
              "25%                  0.000000                0.000000                0.000000   \n",
              "50%                  0.000000                0.000000                0.000000   \n",
              "75%                  0.000000                0.000000                0.000000   \n",
              "max                  1.000000                1.000000                1.000000   \n",
              "\n",
              "       CYP2C9 consensus_*2/*3  CYP2C9 consensus_*3/*3  \\\n",
              "count             5741.000000             5741.000000   \n",
              "mean                 0.011845                0.003484   \n",
              "std                  0.108196                0.058925   \n",
              "min                  0.000000                0.000000   \n",
              "25%                  0.000000                0.000000   \n",
              "50%                  0.000000                0.000000   \n",
              "75%                  0.000000                0.000000   \n",
              "max                  1.000000                1.000000   \n",
              "\n",
              "       CYP2C9 consensus_Unknown  Imputed VKORC1_A/A  Imputed VKORC1_A/G  \\\n",
              "count               5741.000000         5741.000000         5741.000000   \n",
              "mean                   0.022296            0.295245            0.358474   \n",
              "std                    0.147657            0.456192            0.479594   \n",
              "min                    0.000000            0.000000            0.000000   \n",
              "25%                    0.000000            0.000000            0.000000   \n",
              "50%                    0.000000            0.000000            0.000000   \n",
              "75%                    0.000000            1.000000            1.000000   \n",
              "max                    1.000000            1.000000            1.000000   \n",
              "\n",
              "       Imputed VKORC1_G/G  Imputed VKORC1_Unknown  \n",
              "count         5741.000000             5741.000000  \n",
              "mean             0.328166                0.018115  \n",
              "std              0.469586                0.133380  \n",
              "min              0.000000                0.000000  \n",
              "25%              0.000000                0.000000  \n",
              "50%              0.000000                0.000000  \n",
              "75%              1.000000                0.000000  \n",
              "max              1.000000                1.000000  \n",
              "\n",
              "[8 rows x 33 columns]"
            ],
            "text/html": [
              "<div>\n",
              "<style scoped>\n",
              "    .dataframe tbody tr th:only-of-type {\n",
              "        vertical-align: middle;\n",
              "    }\n",
              "\n",
              "    .dataframe tbody tr th {\n",
              "        vertical-align: top;\n",
              "    }\n",
              "\n",
              "    .dataframe thead th {\n",
              "        text-align: right;\n",
              "    }\n",
              "</style>\n",
              "<table border=\"1\" class=\"dataframe\">\n",
              "  <thead>\n",
              "    <tr style=\"text-align: right;\">\n",
              "      <th></th>\n",
              "      <th>Height (cm)</th>\n",
              "      <th>Weight (kg)</th>\n",
              "      <th>Amiodarone (Cordarone)</th>\n",
              "      <th>Carbamazepine (Tegretol)</th>\n",
              "      <th>Phenytoin (Dilantin)</th>\n",
              "      <th>Rifampin or Rifampicin</th>\n",
              "      <th>Current Smoker</th>\n",
              "      <th>Therapeutic Dose of Warfarin</th>\n",
              "      <th>INR on Reported Therapeutic Dose of Warfarin</th>\n",
              "      <th>Race (OMB)_Asian</th>\n",
              "      <th>...</th>\n",
              "      <th>CYP2C9 consensus_*1/*2</th>\n",
              "      <th>CYP2C9 consensus_*1/*3</th>\n",
              "      <th>CYP2C9 consensus_*2/*2</th>\n",
              "      <th>CYP2C9 consensus_*2/*3</th>\n",
              "      <th>CYP2C9 consensus_*3/*3</th>\n",
              "      <th>CYP2C9 consensus_Unknown</th>\n",
              "      <th>Imputed VKORC1_A/A</th>\n",
              "      <th>Imputed VKORC1_A/G</th>\n",
              "      <th>Imputed VKORC1_G/G</th>\n",
              "      <th>Imputed VKORC1_Unknown</th>\n",
              "    </tr>\n",
              "  </thead>\n",
              "  <tbody>\n",
              "    <tr>\n",
              "      <th>count</th>\n",
              "      <td>5741.000000</td>\n",
              "      <td>5741.000000</td>\n",
              "      <td>5741.000000</td>\n",
              "      <td>5741.000000</td>\n",
              "      <td>5741.000000</td>\n",
              "      <td>5741.000000</td>\n",
              "      <td>5741.000000</td>\n",
              "      <td>5741.000000</td>\n",
              "      <td>5741.000000</td>\n",
              "      <td>5741.000000</td>\n",
              "      <td>...</td>\n",
              "      <td>5741.000000</td>\n",
              "      <td>5741.000000</td>\n",
              "      <td>5741.000000</td>\n",
              "      <td>5741.000000</td>\n",
              "      <td>5741.000000</td>\n",
              "      <td>5741.000000</td>\n",
              "      <td>5741.000000</td>\n",
              "      <td>5741.000000</td>\n",
              "      <td>5741.000000</td>\n",
              "      <td>5741.000000</td>\n",
              "    </tr>\n",
              "    <tr>\n",
              "      <th>mean</th>\n",
              "      <td>167.979150</td>\n",
              "      <td>78.794878</td>\n",
              "      <td>0.048772</td>\n",
              "      <td>0.005574</td>\n",
              "      <td>0.004529</td>\n",
              "      <td>0.000697</td>\n",
              "      <td>0.083957</td>\n",
              "      <td>31.967232</td>\n",
              "      <td>2.152263</td>\n",
              "      <td>0.263891</td>\n",
              "      <td>...</td>\n",
              "      <td>0.131510</td>\n",
              "      <td>0.083957</td>\n",
              "      <td>0.010103</td>\n",
              "      <td>0.011845</td>\n",
              "      <td>0.003484</td>\n",
              "      <td>0.022296</td>\n",
              "      <td>0.295245</td>\n",
              "      <td>0.358474</td>\n",
              "      <td>0.328166</td>\n",
              "      <td>0.018115</td>\n",
              "    </tr>\n",
              "    <tr>\n",
              "      <th>std</th>\n",
              "      <td>10.581973</td>\n",
              "      <td>22.316584</td>\n",
              "      <td>0.215410</td>\n",
              "      <td>0.074457</td>\n",
              "      <td>0.067150</td>\n",
              "      <td>0.026389</td>\n",
              "      <td>0.277348</td>\n",
              "      <td>16.765840</td>\n",
              "      <td>0.815865</td>\n",
              "      <td>0.440779</td>\n",
              "      <td>...</td>\n",
              "      <td>0.337987</td>\n",
              "      <td>0.277348</td>\n",
              "      <td>0.100012</td>\n",
              "      <td>0.108196</td>\n",
              "      <td>0.058925</td>\n",
              "      <td>0.147657</td>\n",
              "      <td>0.456192</td>\n",
              "      <td>0.479594</td>\n",
              "      <td>0.469586</td>\n",
              "      <td>0.133380</td>\n",
              "    </tr>\n",
              "    <tr>\n",
              "      <th>min</th>\n",
              "      <td>124.970000</td>\n",
              "      <td>30.000000</td>\n",
              "      <td>0.000000</td>\n",
              "      <td>0.000000</td>\n",
              "      <td>0.000000</td>\n",
              "      <td>0.000000</td>\n",
              "      <td>0.000000</td>\n",
              "      <td>2.100000</td>\n",
              "      <td>0.000000</td>\n",
              "      <td>0.000000</td>\n",
              "      <td>...</td>\n",
              "      <td>0.000000</td>\n",
              "      <td>0.000000</td>\n",
              "      <td>0.000000</td>\n",
              "      <td>0.000000</td>\n",
              "      <td>0.000000</td>\n",
              "      <td>0.000000</td>\n",
              "      <td>0.000000</td>\n",
              "      <td>0.000000</td>\n",
              "      <td>0.000000</td>\n",
              "      <td>0.000000</td>\n",
              "    </tr>\n",
              "    <tr>\n",
              "      <th>25%</th>\n",
              "      <td>160.020000</td>\n",
              "      <td>63.000000</td>\n",
              "      <td>0.000000</td>\n",
              "      <td>0.000000</td>\n",
              "      <td>0.000000</td>\n",
              "      <td>0.000000</td>\n",
              "      <td>0.000000</td>\n",
              "      <td>20.020000</td>\n",
              "      <td>2.000000</td>\n",
              "      <td>0.000000</td>\n",
              "      <td>...</td>\n",
              "      <td>0.000000</td>\n",
              "      <td>0.000000</td>\n",
              "      <td>0.000000</td>\n",
              "      <td>0.000000</td>\n",
              "      <td>0.000000</td>\n",
              "      <td>0.000000</td>\n",
              "      <td>0.000000</td>\n",
              "      <td>0.000000</td>\n",
              "      <td>0.000000</td>\n",
              "      <td>0.000000</td>\n",
              "    </tr>\n",
              "    <tr>\n",
              "      <th>50%</th>\n",
              "      <td>167.640000</td>\n",
              "      <td>76.000000</td>\n",
              "      <td>0.000000</td>\n",
              "      <td>0.000000</td>\n",
              "      <td>0.000000</td>\n",
              "      <td>0.000000</td>\n",
              "      <td>0.000000</td>\n",
              "      <td>28.000000</td>\n",
              "      <td>2.340000</td>\n",
              "      <td>0.000000</td>\n",
              "      <td>...</td>\n",
              "      <td>0.000000</td>\n",
              "      <td>0.000000</td>\n",
              "      <td>0.000000</td>\n",
              "      <td>0.000000</td>\n",
              "      <td>0.000000</td>\n",
              "      <td>0.000000</td>\n",
              "      <td>0.000000</td>\n",
              "      <td>0.000000</td>\n",
              "      <td>0.000000</td>\n",
              "      <td>0.000000</td>\n",
              "    </tr>\n",
              "    <tr>\n",
              "      <th>75%</th>\n",
              "      <td>175.790577</td>\n",
              "      <td>90.700000</td>\n",
              "      <td>0.000000</td>\n",
              "      <td>0.000000</td>\n",
              "      <td>0.000000</td>\n",
              "      <td>0.000000</td>\n",
              "      <td>0.000000</td>\n",
              "      <td>40.000000</td>\n",
              "      <td>2.600000</td>\n",
              "      <td>1.000000</td>\n",
              "      <td>...</td>\n",
              "      <td>0.000000</td>\n",
              "      <td>0.000000</td>\n",
              "      <td>0.000000</td>\n",
              "      <td>0.000000</td>\n",
              "      <td>0.000000</td>\n",
              "      <td>0.000000</td>\n",
              "      <td>1.000000</td>\n",
              "      <td>1.000000</td>\n",
              "      <td>1.000000</td>\n",
              "      <td>0.000000</td>\n",
              "    </tr>\n",
              "    <tr>\n",
              "      <th>max</th>\n",
              "      <td>202.000000</td>\n",
              "      <td>237.700000</td>\n",
              "      <td>1.000000</td>\n",
              "      <td>1.000000</td>\n",
              "      <td>1.000000</td>\n",
              "      <td>1.000000</td>\n",
              "      <td>1.000000</td>\n",
              "      <td>230.000000</td>\n",
              "      <td>6.100000</td>\n",
              "      <td>1.000000</td>\n",
              "      <td>...</td>\n",
              "      <td>1.000000</td>\n",
              "      <td>1.000000</td>\n",
              "      <td>1.000000</td>\n",
              "      <td>1.000000</td>\n",
              "      <td>1.000000</td>\n",
              "      <td>1.000000</td>\n",
              "      <td>1.000000</td>\n",
              "      <td>1.000000</td>\n",
              "      <td>1.000000</td>\n",
              "      <td>1.000000</td>\n",
              "    </tr>\n",
              "  </tbody>\n",
              "</table>\n",
              "<p>8 rows × 33 columns</p>\n",
              "</div>"
            ]
          },
          "metadata": {
            "tags": []
          },
          "execution_count": 33
        }
      ]
    },
    {
      "cell_type": "code",
      "metadata": {
        "id": "YlDN5YtCZsKC",
        "colab_type": "code",
        "outputId": "bafb3df0-899d-4edb-9af5-9e936cc2c19d",
        "colab": {
          "base_uri": "https://localhost:8080/",
          "height": 317
        }
      },
      "source": [
        "path.describe()"
      ],
      "execution_count": 0,
      "outputs": [
        {
          "output_type": "execute_result",
          "data": {
            "text/plain": [
              "               dob      aspirin  paracetamol   amiodarone  atrialFibrilation  \\\n",
              "count  4621.000000  4621.000000  4621.000000  4621.000000        4621.000000   \n",
              "mean   1947.423501     0.017745     0.016447     0.028349           0.433240   \n",
              "std      13.828309     0.132038     0.127199     0.165985           0.495577   \n",
              "min    1917.000000     0.000000     0.000000     0.000000           0.000000   \n",
              "25%    1937.000000     0.000000     0.000000     0.000000           0.000000   \n",
              "50%    1945.000000     0.000000     0.000000     0.000000           0.000000   \n",
              "75%    1956.000000     0.000000     0.000000     0.000000           1.000000   \n",
              "max    2004.000000     1.000000     1.000000     1.000000           1.000000   \n",
              "\n",
              "       deepVeinThrombosis  valveReplacement  takenDoseWeek          inr  \\\n",
              "count         4621.000000       4621.000000    4621.000000  4621.000000   \n",
              "mean             0.109717          0.029214      29.627639     2.455897   \n",
              "std              0.312570          0.168425      16.039975     0.333768   \n",
              "min              0.000000          0.000000       0.000000     1.800000   \n",
              "25%              0.000000          0.000000      17.500000     2.200000   \n",
              "50%              0.000000          0.000000      27.500000     2.400000   \n",
              "75%              0.000000          0.000000      37.500000     2.700000   \n",
              "max              1.000000          1.000000     210.000000     3.900000   \n",
              "\n",
              "                 F            M  \n",
              "count  4621.000000  4621.000000  \n",
              "mean      0.528673     0.471327  \n",
              "std       0.499231     0.499231  \n",
              "min       0.000000     0.000000  \n",
              "25%       0.000000     0.000000  \n",
              "50%       1.000000     0.000000  \n",
              "75%       1.000000     1.000000  \n",
              "max       1.000000     1.000000  "
            ],
            "text/html": [
              "<div>\n",
              "<style scoped>\n",
              "    .dataframe tbody tr th:only-of-type {\n",
              "        vertical-align: middle;\n",
              "    }\n",
              "\n",
              "    .dataframe tbody tr th {\n",
              "        vertical-align: top;\n",
              "    }\n",
              "\n",
              "    .dataframe thead th {\n",
              "        text-align: right;\n",
              "    }\n",
              "</style>\n",
              "<table border=\"1\" class=\"dataframe\">\n",
              "  <thead>\n",
              "    <tr style=\"text-align: right;\">\n",
              "      <th></th>\n",
              "      <th>dob</th>\n",
              "      <th>aspirin</th>\n",
              "      <th>paracetamol</th>\n",
              "      <th>amiodarone</th>\n",
              "      <th>atrialFibrilation</th>\n",
              "      <th>deepVeinThrombosis</th>\n",
              "      <th>valveReplacement</th>\n",
              "      <th>takenDoseWeek</th>\n",
              "      <th>inr</th>\n",
              "      <th>F</th>\n",
              "      <th>M</th>\n",
              "    </tr>\n",
              "  </thead>\n",
              "  <tbody>\n",
              "    <tr>\n",
              "      <th>count</th>\n",
              "      <td>4621.000000</td>\n",
              "      <td>4621.000000</td>\n",
              "      <td>4621.000000</td>\n",
              "      <td>4621.000000</td>\n",
              "      <td>4621.000000</td>\n",
              "      <td>4621.000000</td>\n",
              "      <td>4621.000000</td>\n",
              "      <td>4621.000000</td>\n",
              "      <td>4621.000000</td>\n",
              "      <td>4621.000000</td>\n",
              "      <td>4621.000000</td>\n",
              "    </tr>\n",
              "    <tr>\n",
              "      <th>mean</th>\n",
              "      <td>1947.423501</td>\n",
              "      <td>0.017745</td>\n",
              "      <td>0.016447</td>\n",
              "      <td>0.028349</td>\n",
              "      <td>0.433240</td>\n",
              "      <td>0.109717</td>\n",
              "      <td>0.029214</td>\n",
              "      <td>29.627639</td>\n",
              "      <td>2.455897</td>\n",
              "      <td>0.528673</td>\n",
              "      <td>0.471327</td>\n",
              "    </tr>\n",
              "    <tr>\n",
              "      <th>std</th>\n",
              "      <td>13.828309</td>\n",
              "      <td>0.132038</td>\n",
              "      <td>0.127199</td>\n",
              "      <td>0.165985</td>\n",
              "      <td>0.495577</td>\n",
              "      <td>0.312570</td>\n",
              "      <td>0.168425</td>\n",
              "      <td>16.039975</td>\n",
              "      <td>0.333768</td>\n",
              "      <td>0.499231</td>\n",
              "      <td>0.499231</td>\n",
              "    </tr>\n",
              "    <tr>\n",
              "      <th>min</th>\n",
              "      <td>1917.000000</td>\n",
              "      <td>0.000000</td>\n",
              "      <td>0.000000</td>\n",
              "      <td>0.000000</td>\n",
              "      <td>0.000000</td>\n",
              "      <td>0.000000</td>\n",
              "      <td>0.000000</td>\n",
              "      <td>0.000000</td>\n",
              "      <td>1.800000</td>\n",
              "      <td>0.000000</td>\n",
              "      <td>0.000000</td>\n",
              "    </tr>\n",
              "    <tr>\n",
              "      <th>25%</th>\n",
              "      <td>1937.000000</td>\n",
              "      <td>0.000000</td>\n",
              "      <td>0.000000</td>\n",
              "      <td>0.000000</td>\n",
              "      <td>0.000000</td>\n",
              "      <td>0.000000</td>\n",
              "      <td>0.000000</td>\n",
              "      <td>17.500000</td>\n",
              "      <td>2.200000</td>\n",
              "      <td>0.000000</td>\n",
              "      <td>0.000000</td>\n",
              "    </tr>\n",
              "    <tr>\n",
              "      <th>50%</th>\n",
              "      <td>1945.000000</td>\n",
              "      <td>0.000000</td>\n",
              "      <td>0.000000</td>\n",
              "      <td>0.000000</td>\n",
              "      <td>0.000000</td>\n",
              "      <td>0.000000</td>\n",
              "      <td>0.000000</td>\n",
              "      <td>27.500000</td>\n",
              "      <td>2.400000</td>\n",
              "      <td>1.000000</td>\n",
              "      <td>0.000000</td>\n",
              "    </tr>\n",
              "    <tr>\n",
              "      <th>75%</th>\n",
              "      <td>1956.000000</td>\n",
              "      <td>0.000000</td>\n",
              "      <td>0.000000</td>\n",
              "      <td>0.000000</td>\n",
              "      <td>1.000000</td>\n",
              "      <td>0.000000</td>\n",
              "      <td>0.000000</td>\n",
              "      <td>37.500000</td>\n",
              "      <td>2.700000</td>\n",
              "      <td>1.000000</td>\n",
              "      <td>1.000000</td>\n",
              "    </tr>\n",
              "    <tr>\n",
              "      <th>max</th>\n",
              "      <td>2004.000000</td>\n",
              "      <td>1.000000</td>\n",
              "      <td>1.000000</td>\n",
              "      <td>1.000000</td>\n",
              "      <td>1.000000</td>\n",
              "      <td>1.000000</td>\n",
              "      <td>1.000000</td>\n",
              "      <td>210.000000</td>\n",
              "      <td>3.900000</td>\n",
              "      <td>1.000000</td>\n",
              "      <td>1.000000</td>\n",
              "    </tr>\n",
              "  </tbody>\n",
              "</table>\n",
              "</div>"
            ]
          },
          "metadata": {
            "tags": []
          },
          "execution_count": 34
        }
      ]
    },
    {
      "cell_type": "code",
      "metadata": {
        "id": "FNCEmKmnaEH3",
        "colab_type": "code",
        "outputId": "459f4490-649b-4121-f618-657a45d22ab2",
        "colab": {
          "base_uri": "https://localhost:8080/",
          "height": 314
        }
      },
      "source": [
        "plt.figure()\n",
        "iwpc[[\n",
        "    'INR on Reported Therapeutic Dose of Warfarin',\n",
        "    'Therapeutic Dose of Warfarin',\n",
        "    'Height (cm)',\n",
        "    'Weight (kg)',\n",
        "]].hist()\n",
        "plt.tight_layout()\n",
        "plt.show()"
      ],
      "execution_count": 0,
      "outputs": [
        {
          "output_type": "display_data",
          "data": {
            "text/plain": [
              "<Figure size 432x288 with 0 Axes>"
            ]
          },
          "metadata": {
            "tags": []
          }
        },
        {
          "output_type": "display_data",
          "data": {
            "text/plain": [
              "<Figure size 432x288 with 4 Axes>"
            ],
            "image/png": "[encoded data removed]"
          },
          "metadata": {
            "tags": [],
            "needs_background": "light"
          }
        }
      ]
    },
    {
      "cell_type": "code",
      "metadata": {
        "id": "9B6x06oxa4gA",
        "colab_type": "code",
        "outputId": "67b4d4f7-0b6e-4fb0-e6e6-2b3114e36c9e",
        "colab": {
          "base_uri": "https://localhost:8080/",
          "height": 314
        }
      },
      "source": [
        "plt.figure()\n",
        "path[[\n",
        "    'inr',\n",
        "    'takenDoseWeek',\n",
        "]].hist()\n",
        "plt.tight_layout()\n",
        "plt.show()"
      ],
      "execution_count": 0,
      "outputs": [
        {
          "output_type": "display_data",
          "data": {
            "text/plain": [
              "<Figure size 432x288 with 0 Axes>"
            ]
          },
          "metadata": {
            "tags": []
          }
        },
        {
          "output_type": "display_data",
          "data": {
            "text/plain": [
              "<Figure size 432x288 with 2 Axes>"
            ],
            "image/png": "[encoded data removed]"
          },
          "metadata": {
            "tags": [],
            "needs_background": "light"
          }
        }
      ]
    },
    {
      "cell_type": "markdown",
      "metadata": {
        "id": "QbfMWosQxhXY",
        "colab_type": "text"
      },
      "source": [
        "As we can see in both sets of histograms above, the warfarin doses both have skewed distributions. This reduces the performance of predictive models. Similarly to [Ma et al. 2018](https://journals.plos.org/plosone/article/comments?id=10.1371/journal.pone.0205872), we can take the square root of this feature to produce a normal distribution—which we use for training. In evaluation, we can use warfit-learn's evaluation arguments to square the value and produce legitimate predictions for weekly dosage. "
      ]
    },
    {
      "cell_type": "code",
      "metadata": {
        "id": "HN-2K3LQyLlk",
        "colab_type": "code",
        "colab": {}
      },
      "source": [
        "iwpc['Therapeutic Dose of Warfarin'] = iwpc['Therapeutic Dose of Warfarin'].apply(np.sqrt)\n",
        "path['takenDoseWeek'] = path['takenDoseWeek'].apply(np.sqrt)"
      ],
      "execution_count": 0,
      "outputs": []
    },
    {
      "cell_type": "code",
      "metadata": {
        "id": "z4f9WoTIuQzo",
        "colab_type": "code",
        "colab": {}
      },
      "source": [
        ""
      ],
      "execution_count": 0,
      "outputs": []
    },
    {
      "cell_type": "code",
      "metadata": {
        "id": "JcVmbOsbyqoP",
        "colab_type": "code",
        "outputId": "5e1d8092-00ee-41ff-d31e-132fb90365dd",
        "colab": {
          "base_uri": "https://localhost:8080/",
          "height": 286
        }
      },
      "source": [
        "iwpc['Therapeutic Dose of Warfarin'].hist()"
      ],
      "execution_count": 0,
      "outputs": [
        {
          "output_type": "execute_result",
          "data": {
            "text/plain": [
              "<matplotlib.axes._subplots.AxesSubplot at 0x10b196eb8>"
            ]
          },
          "metadata": {
            "tags": []
          },
          "execution_count": 38
        },
        {
          "output_type": "display_data",
          "data": {
            "text/plain": [
              "<Figure size 432x288 with 1 Axes>"
            ],
            "image/png": "[encoded data removed]"
          },
          "metadata": {
            "tags": [],
            "needs_background": "light"
          }
        }
      ]
    },
    {
      "cell_type": "code",
      "metadata": {
        "id": "vq2GgE0Cyrgo",
        "colab_type": "code",
        "outputId": "8ddc3a42-17a2-4bae-9267-c72a6872e1fb",
        "colab": {
          "base_uri": "https://localhost:8080/",
          "height": 286
        }
      },
      "source": [
        "path['takenDoseWeek'].hist()"
      ],
      "execution_count": 0,
      "outputs": [
        {
          "output_type": "execute_result",
          "data": {
            "text/plain": [
              "<matplotlib.axes._subplots.AxesSubplot at 0x10a695e48>"
            ]
          },
          "metadata": {
            "tags": []
          },
          "execution_count": 39
        },
        {
          "output_type": "display_data",
          "data": {
            "text/plain": [
              "<Figure size 432x288 with 1 Axes>"
            ],
            "image/png": "[encoded data removed]"
          },
          "metadata": {
            "tags": [],
            "needs_background": "light"
          }
        }
      ]
    },
    {
      "cell_type": "markdown",
      "metadata": {
        "id": "wmOs7_lhhQ1V",
        "colab_type": "text"
      },
      "source": [
        "We can now drop the INR features from both datasets, as they are not features we are training on. We can also drop the dose groups for the IWPC data."
      ]
    },
    {
      "cell_type": "code",
      "metadata": {
        "colab_type": "code",
        "id": "3U8hCqUMy5bo",
        "colab": {}
      },
      "source": [
        "iwpc_raw = iwpc.copy()\n",
        "iwpc.drop(['INR on Reported Therapeutic Dose of Warfarin'], axis='columns', inplace=True)\n",
        "path.drop(['inr'], axis='columns', inplace=True)"
      ],
      "execution_count": 0,
      "outputs": []
    },
    {
      "cell_type": "markdown",
      "metadata": {
        "id": "eZotghiz8ztQ",
        "colab_type": "text"
      },
      "source": [
        "We can now inspect the fields we will be training on"
      ]
    },
    {
      "cell_type": "code",
      "metadata": {
        "id": "JniKeCoQ8zAC",
        "colab_type": "code",
        "outputId": "e633951e-c9fa-4673-869f-eda9a2132887",
        "colab": {
          "base_uri": "https://localhost:8080/",
          "height": 255
        }
      },
      "source": [
        "iwpc.columns"
      ],
      "execution_count": 0,
      "outputs": [
        {
          "output_type": "execute_result",
          "data": {
            "text/plain": [
              "Index(['Height (cm)', 'Weight (kg)', 'Amiodarone (Cordarone)',\n",
              "       'Carbamazepine (Tegretol)', 'Phenytoin (Dilantin)',\n",
              "       'Rifampin or Rifampicin', 'Current Smoker',\n",
              "       'Therapeutic Dose of Warfarin', 'Race (OMB)_Asian',\n",
              "       'Race (OMB)_Black or African American', 'Race (OMB)_Unknown',\n",
              "       'Race (OMB)_White', 'Age_10 - 19', 'Age_20 - 29', 'Age_30 - 39',\n",
              "       'Age_40 - 49', 'Age_50 - 59', 'Age_60 - 69', 'Age_70 - 79',\n",
              "       'Age_80 - 89', 'Age_90+', 'CYP2C9 consensus_*1/*1',\n",
              "       'CYP2C9 consensus_*1/*2', 'CYP2C9 consensus_*1/*3',\n",
              "       'CYP2C9 consensus_*2/*2', 'CYP2C9 consensus_*2/*3',\n",
              "       'CYP2C9 consensus_*3/*3', 'CYP2C9 consensus_Unknown',\n",
              "       'Imputed VKORC1_A/A', 'Imputed VKORC1_A/G', 'Imputed VKORC1_G/G',\n",
              "       'Imputed VKORC1_Unknown'],\n",
              "      dtype='object')"
            ]
          },
          "metadata": {
            "tags": []
          },
          "execution_count": 41
        }
      ]
    },
    {
      "cell_type": "code",
      "metadata": {
        "id": "4KzouFmckaZo",
        "colab_type": "code",
        "colab": {}
      },
      "source": [
        "import warnings\n",
        "from sklearn.exceptions import ConvergenceWarning\n",
        "from sklearn.exceptions import ChangedBehaviorWarning\n",
        "from sklearn.exceptions import DataConversionWarning\n",
        "warnings.filterwarnings(\"ignore\", category=ConvergenceWarning)\n",
        "warnings.filterwarnings(\"ignore\", category=ChangedBehaviorWarning)\n",
        "warnings.filterwarnings(\"ignore\", category=DataConversionWarning)"
      ],
      "execution_count": 0,
      "outputs": []
    },
    {
      "cell_type": "markdown",
      "metadata": {
        "id": "QQ0gpUEAwrLG",
        "colab_type": "text"
      },
      "source": [
        "## Evaluation\n",
        "\n",
        "We now define a collection of sklearn estimators (or ensembles of sklearn estimators) that have been known to perform well on the IWPC data. We then apply them all to the same IWPC dataset, as well as unseen PathCare dataset, and evaluate performance."
      ]
    },
    {
      "cell_type": "code",
      "metadata": {
        "id": "ycx_8S3-dicw",
        "colab_type": "code",
        "colab": {}
      },
      "source": [
        "from warfit_learn.evaluation import evaluate_estimators"
      ],
      "execution_count": 0,
      "outputs": []
    },
    {
      "cell_type": "code",
      "metadata": {
        "id": "UwfX26NszWYQ",
        "colab_type": "code",
        "colab": {}
      },
      "source": [
        "ests = []"
      ],
      "execution_count": 0,
      "outputs": []
    },
    {
      "cell_type": "markdown",
      "metadata": {
        "id": "iDf5MnA67-go",
        "colab_type": "text"
      },
      "source": [
        "We'll add a linear regression baseline first."
      ]
    },
    {
      "cell_type": "code",
      "metadata": {
        "id": "WA6OPsHw79sk",
        "colab_type": "code",
        "colab": {}
      },
      "source": [
        "from sklearn.linear_model import LinearRegression\n",
        "\n",
        "ests.append(Estimator(\n",
        "    LinearRegression(),\n",
        "    'LR'))"
      ],
      "execution_count": 0,
      "outputs": []
    },
    {
      "cell_type": "markdown",
      "metadata": {
        "id": "oIutIZ1rzrBi",
        "colab_type": "text"
      },
      "source": [
        "[Liu et al. 2015](https://journals.plos.org/plosone/article?id=10.1371/journal.pone.0135784) saw success with off-the-shelf implementations of:\n",
        "\n",
        "*   Support Vector Regression (SVR)\n",
        "*   Boosted Regression Trees (BRT)\n",
        "\n"
      ]
    },
    {
      "cell_type": "code",
      "metadata": {
        "id": "Edp7LHwVzqae",
        "colab_type": "code",
        "colab": {}
      },
      "source": [
        "from sklearn.ensemble import GradientBoostingRegressor\n",
        "from sklearn.svm import LinearSVR\n",
        "\n",
        "ests.append(Estimator(\n",
        "    LinearSVR(),\n",
        "    'SVR'))\n",
        "\n",
        "ests.append(Estimator(\n",
        "    GradientBoostingRegressor(),\n",
        "    'BRT'))"
      ],
      "execution_count": 0,
      "outputs": []
    },
    {
      "cell_type": "markdown",
      "metadata": {
        "id": "rUtP2VbV8xOk",
        "colab_type": "text"
      },
      "source": [
        "Ma et al. 2018 found some of the following to be effective as single estimators:\n",
        "\n",
        "*   Support Vector Regression (SV)\n",
        "*   Multiple Linear Regression (MLR)\n",
        "*   Ridge Regression (RR)\n",
        "\n",
        "\n",
        "Ma et al. 2018 saw their best results with stacked generalization frameworks:\n",
        "\n",
        "*   SV at Level-1, with GBT, SV, and NN at Level-0\n",
        "*   RR at Level-1, with GBT, RR, and NN at Level-0\n",
        "\n",
        "\n"
      ]
    },
    {
      "cell_type": "code",
      "metadata": {
        "id": "EtaVdO12rycv",
        "colab_type": "code",
        "colab": {}
      },
      "source": [
        "from sklearn.linear_model import Ridge\n",
        "from sklearn.svm import SVR\n",
        "from sklearn.linear_model import Ridge\n",
        "from sklearn.ensemble import GradientBoostingRegressor\n",
        "from sklearn.neural_network import MLPRegressor\n",
        "from mlxtend.regressor import StackingCVRegressor\n",
        "\n",
        "\n",
        "GBT = GradientBoostingRegressor(learning_rate=0.1, loss=\"lad\",\n",
        "                              max_depth=4,)\n",
        "RR = Ridge(alpha=1.0)\n",
        "NN = MLPRegressor(hidden_layer_sizes=(100, ), \n",
        "                  activation='logistic', \n",
        "                  solver='lbfgs')\n",
        "SV = SVR(kernel='linear', cache_size=1000)\n",
        "\n",
        "\n",
        "ests.append(Estimator(SV,'SV'))\n",
        "ests.append(Estimator(RR, 'RR'))\n",
        "ests.append(Estimator(GBT, 'GBT'))\n",
        "ests.append(Estimator(NN, 'NN'))\n",
        "\n",
        "ests.append(Estimator(\n",
        "    StackingCVRegressor(\n",
        "        regressors=[GBT, SV, NN],\n",
        "        meta_regressor=SV,\n",
        "        cv=5,\n",
        "    ),'Stacked_SV'))\n",
        "\n",
        "ests.append(Estimator(\n",
        "    StackingCVRegressor(\n",
        "        regressors=[GBT, RR, NN],\n",
        "        meta_regressor=RR,\n",
        "        cv=5,\n",
        "    ),'Stacked_RR'))"
      ],
      "execution_count": 0,
      "outputs": []
    },
    {
      "cell_type": "markdown",
      "metadata": {
        "id": "kN2UaLI_7B1R",
        "colab_type": "text"
      },
      "source": [
        "In this study, supervised learning \"pipelines\" were generated through Genetic Programming. Here we add a few of the best-performers to our list of estimators."
      ]
    },
    {
      "cell_type": "code",
      "metadata": {
        "id": "pXOopd_y7ONr",
        "colab_type": "code",
        "colab": {}
      },
      "source": [
        "from sklearn.feature_selection import SelectFwe, f_regression, SelectPercentile\n",
        "from sklearn.preprocessing import StandardScaler, RobustScaler, MaxAbsScaler, \\\n",
        "    MinMaxScaler, FunctionTransformer, Normalizer\n",
        "from sklearn.linear_model import RidgeCV, ElasticNetCV, LassoLarsCV\n",
        "from sklearn.tree import DecisionTreeRegressor\n",
        "from sklearn.svm import LinearSVR\n",
        "from sklearn.ensemble import GradientBoostingRegressor, ExtraTreesRegressor\n",
        "from sklearn.decomposition import PCA\n",
        "from sklearn.pipeline import make_pipeline, make_union\n",
        "from sklearn.neighbors import KNeighborsRegressor\n",
        "from sklearn.kernel_approximation import RBFSampler, Nystroem\n",
        "from tpot.builtins import StackingEstimator, ZeroCount\n",
        "from copy import copy\n",
        "\n",
        "\n",
        "tpot2 = make_pipeline(\n",
        "    StackingEstimator(\n",
        "        estimator=LinearSVR(\n",
        "            C=1.0,\n",
        "            dual=True,\n",
        "            epsilon=0.01,\n",
        "            loss=\"epsilon_insensitive\",\n",
        "            tol=0.001,)),\n",
        "    StackingEstimator(\n",
        "        estimator=ElasticNetCV(l1_ratio=0.6000000000000001, tol=0.01, cv=5)),\n",
        "    RobustScaler(),\n",
        "    StackingEstimator(estimator=RidgeCV()),\n",
        "    ExtraTreesRegressor(\n",
        "        bootstrap=True,\n",
        "        max_features=1.0,\n",
        "        min_samples_leaf=20,\n",
        "        min_samples_split=2,\n",
        "        n_estimators=100,)\n",
        ")\n",
        "\n",
        "tpot10 = make_pipeline(\n",
        "    StackingEstimator(estimator=ExtraTreesRegressor(\n",
        "        bootstrap=True, max_features=0.05, \n",
        "        min_samples_leaf=18, min_samples_split=10,\n",
        "        n_estimators=100)),\n",
        "    MaxAbsScaler(),\n",
        "    StackingEstimator(estimator=ExtraTreesRegressor(\n",
        "        bootstrap=True, max_features=0.05,\n",
        "        min_samples_leaf=18, min_samples_split=10, n_estimators=100)),\n",
        "    LassoLarsCV(normalize=True, cv=3)\n",
        ")\n",
        "\n",
        "tpot17 = make_pipeline(\n",
        "    make_union(\n",
        "        FunctionTransformer(copy, validate=True),\n",
        "        MaxAbsScaler()\n",
        "    ),\n",
        "    StackingEstimator(estimator=RidgeCV()),\n",
        "    ZeroCount(),\n",
        "    GradientBoostingRegressor(alpha=0.9, learning_rate=0.1, loss=\"lad\",\n",
        "                              max_depth=3, max_features=0.9000000000000001,\n",
        "                              min_samples_leaf=20, min_samples_split=8,\n",
        "                              n_estimators=100, subsample=0.55)\n",
        ")\n",
        "\n",
        "\n",
        "# Trained on PathCare data\n",
        "tpot_06_12 = make_pipeline(\n",
        "    SelectPercentile(score_func=f_regression, percentile=56),\n",
        "    MinMaxScaler(),\n",
        "    RBFSampler(gamma=0.75),\n",
        "    MinMaxScaler(),\n",
        "    PCA(iterated_power=2, svd_solver=\"randomized\"),\n",
        "    PCA(iterated_power=2, svd_solver=\"randomized\"),\n",
        "    KNeighborsRegressor(n_neighbors=96, p=1, weights=\"distance\")\n",
        ")\n",
        "\n",
        "# Trained on PathCare data\n",
        "tpot_06_12_02 = make_pipeline(\n",
        "    make_union(\n",
        "        FunctionTransformer(copy),\n",
        "        make_union(\n",
        "            make_pipeline(\n",
        "                Normalizer(norm=\"l1\"),\n",
        "                Nystroem(gamma=0.65, kernel=\"sigmoid\", n_components=3),\n",
        "                SelectFwe(score_func=f_regression, alpha=0.006)\n",
        "            ),\n",
        "            make_union(\n",
        "                FunctionTransformer(copy),\n",
        "                FunctionTransformer(copy)\n",
        "            )\n",
        "        )\n",
        "    ),\n",
        "    StackingEstimator(estimator=LinearSVR(C=0.0001, dual=True,\n",
        "                                          epsilon=0.0001,\n",
        "                                          loss=\"epsilon_insensitive\",\n",
        "                                          tol=1e-05)),\n",
        "    MinMaxScaler(),\n",
        "    SelectFwe(score_func=f_regression, alpha=0.047),\n",
        "    Nystroem(gamma=0.9, kernel=\"polynomial\", n_components=6),\n",
        "    ZeroCount(),\n",
        "    Nystroem(gamma=0.9500000000000001, kernel=\"linear\", n_components=7),\n",
        "    KNeighborsRegressor(n_neighbors=99, p=1, weights=\"distance\")\n",
        ")\n",
        "\n",
        "# Trained on PathCare data\n",
        "tpot_06_12_03 = make_pipeline(\n",
        "    StandardScaler(),\n",
        "    SelectFwe(score_func=f_regression, alpha=0.047),\n",
        "    MinMaxScaler(),\n",
        "    Nystroem(gamma=0.5, kernel=\"poly\", n_components=5),\n",
        "    StackingEstimator(estimator=DecisionTreeRegressor(\n",
        "        max_depth=2, min_samples_leaf=12, min_samples_split=5)),\n",
        "    MaxAbsScaler(),\n",
        "    SelectFwe(score_func=f_regression, alpha=0.007),\n",
        "    KNeighborsRegressor(n_neighbors=100, p=1, weights=\"distance\")\n",
        ")\n",
        "\n",
        "# Trained on PathCare data (sqrted)\n",
        "tpot_06_13_02 = make_pipeline(\n",
        "    make_union(\n",
        "        FunctionTransformer(copy),\n",
        "        FunctionTransformer(copy)\n",
        "    ),\n",
        "    SelectPercentile(score_func=f_regression, percentile=49),\n",
        "    MinMaxScaler(),\n",
        "    RBFSampler(gamma=0.45),\n",
        "    StackingEstimator(estimator=KNeighborsRegressor(\n",
        "        n_neighbors=43, p=1, weights=\"distance\")),\n",
        "    MaxAbsScaler(),\n",
        "    KNeighborsRegressor(n_neighbors=97, p=1, weights=\"distance\")\n",
        ")\n",
        "\n",
        "# Trained on PathCare data (sqrted + not-LITE)\n",
        "tpot_06_13_01 = make_pipeline(\n",
        "    SelectFwe(score_func=f_regression, alpha=0.011),\n",
        "    StackingEstimator(estimator=ElasticNetCV(\n",
        "        l1_ratio=0.7000000000000001, tol=0.01)),\n",
        "    MaxAbsScaler(),\n",
        "    Nystroem(gamma=0.2, kernel=\"linear\", n_components=3),\n",
        "    StandardScaler(),\n",
        "    KNeighborsRegressor(n_neighbors=100, p=1, weights=\"distance\")\n",
        ")\n",
        "\n",
        "ests.append(Estimator(tpot2, 'TPOT2'))\n",
        "ests.append(Estimator(tpot10, 'TPOT10'))\n",
        "ests.append(Estimator(tpot17, 'TPOT17'))\n",
        "ests.append(Estimator(tpot_06_12, 'TPOT_06_12'))\n",
        "ests.append(Estimator(tpot_06_12_02, 'TPOT_06_12_02'))\n",
        "ests.append(Estimator(tpot_06_12_03, 'TPOT_06_12_03'))\n",
        "ests.append(Estimator(tpot_06_13_01, 'TPOT_06_13_01'))\n",
        "ests.append(Estimator(tpot_06_13_02, 'TPOT_06_13_02'))"
      ],
      "execution_count": 0,
      "outputs": []
    },
    {
      "cell_type": "markdown",
      "metadata": {
        "id": "r3kiUm3f-2g9",
        "colab_type": "text"
      },
      "source": [
        "We now evaluate on both datasets for 100 resamplings"
      ]
    },
    {
      "cell_type": "code",
      "metadata": {
        "id": "dho8RRIM-vbo",
        "colab_type": "code",
        "outputId": "0c75e43b-10a8-45b4-cc4b-3dff15416a45",
        "colab": {
          "base_uri": "https://localhost:8080/",
          "height": 1000
        }
      },
      "source": [
        "iwpc_results = evaluate_estimators(\n",
        "    ests,\n",
        "    iwpc,\n",
        "    target_column='Therapeutic Dose of Warfarin' #@param {type:\"string\"}\n",
        "    ,scale=True\n",
        "    ,resamples = 100 #@param {type:\"slider\", min:5, max:200, step:1}\n",
        "    ,test_size=0.2\n",
        "    ,squaring = True #@param [\"True\", \"False\"] {type:\"raw\"}\n",
        "    ,technique = 'mccv' #@param [\"'bootstrap'\", \"'mccv'\"] {type:\"raw\"}\n",
        "    ,parallelism = 0.8 #@param {type:\"slider\", min:0.1, max:1.0, step:0.05}\n",
        ")"
      ],
      "execution_count": 0,
      "outputs": [
        {
          "output_type": "stream",
          "text": [
            "Using 6 / 8 CPU cores...\n",
            "\n",
            "LR...\n",
            "   PW20      MAE        R2\n",
            "-------  -------  --------\n",
            "45.9869  8.58826  0.456811\n",
            "\n",
            "SVR...\n",
            "   PW20      MAE       R2\n",
            "-------  -------  -------\n",
            "46.5648  8.58056  0.45762\n",
            "\n",
            "BRT...\n",
            "   PW20      MAE        R2\n",
            "-------  -------  --------\n",
            "45.3229  8.74937  0.439686\n",
            "\n",
            "SV...\n",
            "   PW20     MAE        R2\n",
            "-------  ------  --------\n",
            "46.4108  8.5779  0.458557\n",
            "\n",
            "RR...\n",
            "   PW20      MAE        R2\n",
            "-------  -------  --------\n",
            "45.9556  8.56863  0.460308\n",
            "\n",
            "GBT...\n",
            "   PW20      MAE        R2\n",
            "-------  -------  --------\n",
            "46.3098  8.67208  0.433544\n",
            "\n",
            "NN...\n",
            "   PW20      MAE        R2\n",
            "-------  -------  --------\n",
            "43.1192  9.35923  0.348166\n",
            "\n",
            "Stacked_SV...\n",
            "   PW20      MAE        R2\n",
            "-------  -------  --------\n",
            "46.3177  8.55151  0.462209\n",
            "\n",
            "Stacked_RR...\n",
            "   PW20      MAE        R2\n",
            "-------  -------  --------\n",
            "46.0122  8.63365  0.449706\n",
            "\n",
            "TPOT2...\n",
            "   PW20      MAE        R2\n",
            "-------  -------  --------\n",
            "46.0836  8.56056  0.462155\n",
            "\n",
            "TPOT10...\n",
            "   PW20      MAE        R2\n",
            "-------  -------  --------\n",
            "46.0322  8.61302  0.455258\n",
            "\n",
            "TPOT17...\n",
            "   PW20      MAE       R2\n",
            "-------  -------  -------\n",
            "46.0287  8.58789  0.46266\n",
            "\n",
            "TPOT_06_12...\n",
            "   PW20      MAE        R2\n",
            "-------  -------  --------\n",
            "43.0853  9.38276  0.353099\n",
            "\n",
            "TPOT_06_12_02...\n",
            "   PW20      MAE        R2\n",
            "-------  -------  --------\n",
            "41.4413  9.58791  0.347148\n",
            "\n",
            "TPOT_06_12_03...\n",
            "   PW20      MAE        R2\n",
            "-------  -------  --------\n",
            "40.5352  9.96042  0.295653\n",
            "\n",
            "TPOT_06_13_01...\n",
            "   PW20      MAE        R2\n",
            "-------  -------  --------\n",
            "41.7485  9.64267  0.339352\n",
            "\n",
            "TPOT_06_13_02...\n",
            "   PW20      MAE        R2\n",
            "-------  -------  --------\n",
            "42.8198  9.43025  0.357831\n",
            "\n",
            "\n",
            "                    PW20       MAE        R2\n",
            "Estimator                                   \n",
            "BRT            45.322889  8.749370  0.439686\n",
            "GBT            46.309835  8.672075  0.433544\n",
            "LR             45.986945  8.588259  0.456811\n",
            "NN             43.119234  9.359231  0.348166\n",
            "RR             45.955614  8.568633  0.460308\n",
            "SV             46.410792  8.577904  0.458557\n",
            "SVR            46.564839  8.580557  0.457620\n",
            "Stacked_RR     46.012185  8.633652  0.449706\n",
            "Stacked_SV     46.317668  8.551510  0.462209\n",
            "TPOT10         46.032202  8.613020  0.455258\n",
            "TPOT17         46.028721  8.587887  0.462660\n",
            "TPOT2          46.083551  8.560564  0.462155\n",
            "TPOT_06_12     43.085292  9.382765  0.353099\n",
            "TPOT_06_12_02  41.441253  9.587909  0.347148\n",
            "TPOT_06_12_03  40.535248  9.960425  0.295653\n",
            "TPOT_06_13_01  41.748477  9.642666  0.339352\n",
            "TPOT_06_13_02  42.819843  9.430250  0.357831\n",
            "\n"
          ],
          "name": "stdout"
        }
      ]
    },
    {
      "cell_type": "code",
      "metadata": {
        "id": "O2jU2b4I_Cmt",
        "colab_type": "code",
        "outputId": "dd2e8cff-40cf-4ae2-e078-d515c0bd7e00",
        "colab": {
          "base_uri": "https://localhost:8080/",
          "height": 1000
        }
      },
      "source": [
        "path_results = evaluate_estimators(\n",
        "    ests,\n",
        "    path,\n",
        "    target_column='takenDoseWeek' #@param {type:\"string\"}\n",
        "    ,scale=True\n",
        "    ,resamples = 100 #@param {type:\"slider\", min:5, max:200, step:1}\n",
        "    ,test_size=0.2\n",
        "    ,squaring = True #@param [\"True\", \"False\"] {type:\"raw\"}\n",
        "    ,technique = 'mccv' #@param [\"'bootstrap'\", \"'mccv'\"] {type:\"raw\"}\n",
        "    ,parallelism = 0.8 #@param {type:\"slider\", min:0.1, max:1.0, step:0.05}\n",
        ")"
      ],
      "execution_count": 0,
      "outputs": [
        {
          "output_type": "stream",
          "text": [
            "Using 6 / 8 CPU cores...\n",
            "\n",
            "LR...\n",
            "   PW20      MAE         R2\n",
            "-------  -------  ---------\n",
            "34.0832  10.9774  0.0984202\n",
            "\n",
            "SVR...\n",
            "   PW20     MAE        R2\n",
            "-------  ------  --------\n",
            "34.4649  10.953  0.113318\n",
            "\n",
            "BRT...\n",
            "   PW20      MAE        R2\n",
            "-------  -------  --------\n",
            "33.6054  10.9925  0.103892\n",
            "\n",
            "SV...\n",
            "   PW20      MAE        R2\n",
            "-------  -------  --------\n",
            "34.4032  10.9317  0.109285\n",
            "\n",
            "RR...\n",
            "  PW20      MAE         R2\n",
            "------  -------  ---------\n",
            "33.987  10.9782  0.0985855\n",
            "\n",
            "GBT...\n",
            "  PW20      MAE       R2\n",
            "------  -------  -------\n",
            "33.347  10.9889  0.10857\n",
            "\n",
            "NN...\n",
            "  PW20      MAE         R2\n",
            "------  -------  ---------\n",
            "33.787  11.0686  0.0985458\n",
            "\n",
            "Stacked_SV...\n",
            "  PW20      MAE        R2\n",
            "------  -------  --------\n",
            "34.453  10.9302  0.115666\n",
            "\n",
            "Stacked_RR...\n",
            "   PW20      MAE        R2\n",
            "-------  -------  --------\n",
            "33.8346  10.9491  0.108191\n",
            "\n",
            "TPOT2...\n",
            "   PW20     MAE       R2\n",
            "-------  ------  -------\n",
            "33.5319  11.026  0.10202\n",
            "\n",
            "TPOT10...\n",
            "   PW20      MAE         R2\n",
            "-------  -------  ---------\n",
            "33.6497  11.0533  0.0994934\n",
            "\n",
            "TPOT17...\n",
            "   PW20      MAE        R2\n",
            "-------  -------  --------\n",
            "33.9103  11.0094  0.108598\n",
            "\n",
            "TPOT_06_12...\n",
            "   PW20      MAE         R2\n",
            "-------  -------  ---------\n",
            "32.8573  11.2887  0.0591357\n",
            "\n",
            "TPOT_06_12_02...\n",
            "   PW20      MAE           R2\n",
            "-------  -------  -----------\n",
            "32.3243  11.6268  -0.00442402\n",
            "\n",
            "TPOT_06_12_03...\n",
            "   PW20      MAE         R2\n",
            "-------  -------  ---------\n",
            "32.3697  11.3545  0.0554659\n",
            "\n",
            "TPOT_06_13_01...\n",
            "  PW20      MAE         R2\n",
            "------  -------  ---------\n",
            "32.533  11.3888  0.0485352\n",
            "\n",
            "TPOT_06_13_02...\n",
            "   PW20      MAE        R2\n",
            "-------  -------  --------\n",
            "32.6703  11.3338  0.051609\n",
            "\n",
            "\n",
            "                    PW20        MAE        R2\n",
            "Estimator                                    \n",
            "BRT            33.605405  10.992519  0.103892\n",
            "GBT            33.347027  10.988919  0.108570\n",
            "LR             34.083243  10.977448  0.098420\n",
            "NN             33.787027  11.068602  0.098546\n",
            "RR             33.987027  10.978191  0.098586\n",
            "SV             34.403243  10.931652  0.109285\n",
            "SVR            34.464865  10.953009  0.113318\n",
            "Stacked_RR     33.834595  10.949130  0.108191\n",
            "Stacked_SV     34.452973  10.930239  0.115666\n",
            "TPOT10         33.649730  11.053257  0.099493\n",
            "TPOT17         33.910270  11.009393  0.108598\n",
            "TPOT2          33.531892  11.026032  0.102020\n",
            "TPOT_06_12     32.857297  11.288727  0.059136\n",
            "TPOT_06_12_02  32.324324  11.626783 -0.004424\n",
            "TPOT_06_12_03  32.369730  11.354488  0.055466\n",
            "TPOT_06_13_01  32.532973  11.388772  0.048535\n",
            "TPOT_06_13_02  32.670270  11.333786  0.051609\n",
            "\n"
          ],
          "name": "stdout"
        }
      ]
    },
    {
      "cell_type": "code",
      "metadata": {
        "id": "zOe-jkpYHBBd",
        "colab_type": "code",
        "colab": {}
      },
      "source": [
        "from warfit_learn.metrics import confidence_interval\n",
        "from scipy.stats import norm\n",
        "\n",
        "def format_summary(df_res):\n",
        "    df_summary = df_res.groupby(['Estimator']).mean()\n",
        "    df_summary.reset_index(inplace=True)\n",
        "    for alg in df_res['Estimator'].unique():\n",
        "        for metric in ['PW20', 'MAE', 'R2']:\n",
        "            lo, hi = confidence_interval(\n",
        "                df_res[metric][df_res['Estimator'] == alg].values,\n",
        "            )\n",
        "            mean = df_res[metric][df_res['Estimator'] == alg].mean()\n",
        "            \n",
        "            for v in [mean, lo, hi]:\n",
        "                if not -10000 < v < 10000:\n",
        "                    mean, lo, hi = np.nan, np.nan, np.nan\n",
        "                    \n",
        "            conf = f\"{mean:.2f} ({lo:.2f}–{hi:.2f})\"\n",
        "            df_summary[metric][df_summary['Estimator'] == alg] = conf\n",
        "            \n",
        "    return df_summary\n"
      ],
      "execution_count": 0,
      "outputs": []
    },
    {
      "cell_type": "code",
      "metadata": {
        "id": "gPCn79-uIeoy",
        "colab_type": "code",
        "colab": {}
      },
      "source": [
        "iwpc_formatted = format_summary(iwpc_results).drop('R2', axis=1)\n",
        "path_formatted = format_summary(path_results).drop('R2', axis=1)\n",
        "df_final = pd.concat([\n",
        "    iwpc_formatted,\n",
        "    path_formatted.drop('Estimator', axis=1)\n",
        "    ], axis=1, keys=['IWPC', 'PathCare'])\n"
      ],
      "execution_count": 0,
      "outputs": []
    },
    {
      "cell_type": "code",
      "metadata": {
        "id": "9stvGLHRku_8",
        "colab_type": "code",
        "outputId": "edf07a8c-24d8-4232-c7e0-8f81a5808f4a",
        "colab": {
          "base_uri": "https://localhost:8080/",
          "height": 607
        }
      },
      "source": [
        "df_final"
      ],
      "execution_count": 0,
      "outputs": [
        {
          "output_type": "execute_result",
          "data": {
            "text/plain": [
              "             IWPC                                          \\\n",
              "        Estimator                 PW20                MAE   \n",
              "0             BRT  45.32 (45.04–45.60)   8.75 (8.70–8.80)   \n",
              "1             GBT  46.31 (46.02–46.60)   8.67 (8.63–8.71)   \n",
              "2              LR  45.99 (45.75–46.23)   8.59 (8.54–8.64)   \n",
              "3              NN  43.12 (42.86–43.38)   9.36 (9.31–9.40)   \n",
              "4              RR  45.96 (45.70–46.21)   8.57 (8.52–8.61)   \n",
              "5              SV  46.41 (46.16–46.67)   8.58 (8.53–8.62)   \n",
              "6             SVR  46.56 (46.34–46.79)   8.58 (8.53–8.63)   \n",
              "7      Stacked_RR  46.01 (45.74–46.28)   8.63 (8.58–8.68)   \n",
              "8      Stacked_SV  46.32 (46.06–46.57)   8.55 (8.51–8.59)   \n",
              "9          TPOT10  46.03 (45.76–46.30)   8.61 (8.57–8.66)   \n",
              "10         TPOT17  46.03 (45.75–46.30)   8.59 (8.54–8.64)   \n",
              "11          TPOT2  46.08 (45.81–46.35)   8.56 (8.52–8.60)   \n",
              "12     TPOT_06_12  43.09 (42.83–43.34)   9.38 (9.33–9.43)   \n",
              "13  TPOT_06_12_02  41.44 (41.11–41.77)   9.59 (9.53–9.65)   \n",
              "14  TPOT_06_12_03  40.54 (40.15–40.92)  9.96 (9.88–10.04)   \n",
              "15  TPOT_06_13_01  41.75 (41.39–42.11)   9.64 (9.56–9.72)   \n",
              "16  TPOT_06_13_02  42.82 (42.56–43.08)   9.43 (9.38–9.48)   \n",
              "\n",
              "               PathCare                       \n",
              "                   PW20                  MAE  \n",
              "0   33.61 (33.32–33.89)  10.99 (10.93–11.05)  \n",
              "1   33.35 (33.03–33.66)  10.99 (10.92–11.06)  \n",
              "2   34.08 (33.76–34.40)  10.98 (10.91–11.04)  \n",
              "3   33.79 (33.48–34.09)  11.07 (11.01–11.13)  \n",
              "4   33.99 (33.67–34.30)  10.98 (10.92–11.04)  \n",
              "5   34.40 (34.16–34.65)  10.93 (10.87–10.99)  \n",
              "6   34.46 (34.16–34.77)  10.95 (10.89–11.01)  \n",
              "7   33.83 (33.55–34.12)  10.95 (10.89–11.01)  \n",
              "8   34.45 (34.16–34.75)  10.93 (10.87–10.99)  \n",
              "9   33.65 (33.37–33.93)  11.05 (11.00–11.11)  \n",
              "10  33.91 (33.65–34.17)  11.01 (10.95–11.07)  \n",
              "11  33.53 (33.28–33.78)  11.03 (10.96–11.09)  \n",
              "12  32.86 (32.58–33.14)  11.29 (11.23–11.35)  \n",
              "13  32.32 (32.03–32.62)  11.63 (11.56–11.69)  \n",
              "14  32.37 (32.08–32.66)  11.35 (11.29–11.42)  \n",
              "15  32.53 (32.25–32.82)  11.39 (11.33–11.45)  \n",
              "16  32.67 (32.37–32.97)  11.33 (11.27–11.40)  "
            ],
            "text/html": [
              "<div>\n",
              "<style scoped>\n",
              "    .dataframe tbody tr th:only-of-type {\n",
              "        vertical-align: middle;\n",
              "    }\n",
              "\n",
              "    .dataframe tbody tr th {\n",
              "        vertical-align: top;\n",
              "    }\n",
              "\n",
              "    .dataframe thead tr th {\n",
              "        text-align: left;\n",
              "    }\n",
              "</style>\n",
              "<table border=\"1\" class=\"dataframe\">\n",
              "  <thead>\n",
              "    <tr>\n",
              "      <th></th>\n",
              "      <th colspan=\"3\" halign=\"left\">IWPC</th>\n",
              "      <th colspan=\"2\" halign=\"left\">PathCare</th>\n",
              "    </tr>\n",
              "    <tr>\n",
              "      <th></th>\n",
              "      <th>Estimator</th>\n",
              "      <th>PW20</th>\n",
              "      <th>MAE</th>\n",
              "      <th>PW20</th>\n",
              "      <th>MAE</th>\n",
              "    </tr>\n",
              "  </thead>\n",
              "  <tbody>\n",
              "    <tr>\n",
              "      <th>0</th>\n",
              "      <td>BRT</td>\n",
              "      <td>45.32 (45.04–45.60)</td>\n",
              "      <td>8.75 (8.70–8.80)</td>\n",
              "      <td>33.61 (33.32–33.89)</td>\n",
              "      <td>10.99 (10.93–11.05)</td>\n",
              "    </tr>\n",
              "    <tr>\n",
              "      <th>1</th>\n",
              "      <td>GBT</td>\n",
              "      <td>46.31 (46.02–46.60)</td>\n",
              "      <td>8.67 (8.63–8.71)</td>\n",
              "      <td>33.35 (33.03–33.66)</td>\n",
              "      <td>10.99 (10.92–11.06)</td>\n",
              "    </tr>\n",
              "    <tr>\n",
              "      <th>2</th>\n",
              "      <td>LR</td>\n",
              "      <td>45.99 (45.75–46.23)</td>\n",
              "      <td>8.59 (8.54–8.64)</td>\n",
              "      <td>34.08 (33.76–34.40)</td>\n",
              "      <td>10.98 (10.91–11.04)</td>\n",
              "    </tr>\n",
              "    <tr>\n",
              "      <th>3</th>\n",
              "      <td>NN</td>\n",
              "      <td>43.12 (42.86–43.38)</td>\n",
              "      <td>9.36 (9.31–9.40)</td>\n",
              "      <td>33.79 (33.48–34.09)</td>\n",
              "      <td>11.07 (11.01–11.13)</td>\n",
              "    </tr>\n",
              "    <tr>\n",
              "      <th>4</th>\n",
              "      <td>RR</td>\n",
              "      <td>45.96 (45.70–46.21)</td>\n",
              "      <td>8.57 (8.52–8.61)</td>\n",
              "      <td>33.99 (33.67–34.30)</td>\n",
              "      <td>10.98 (10.92–11.04)</td>\n",
              "    </tr>\n",
              "    <tr>\n",
              "      <th>5</th>\n",
              "      <td>SV</td>\n",
              "      <td>46.41 (46.16–46.67)</td>\n",
              "      <td>8.58 (8.53–8.62)</td>\n",
              "      <td>34.40 (34.16–34.65)</td>\n",
              "      <td>10.93 (10.87–10.99)</td>\n",
              "    </tr>\n",
              "    <tr>\n",
              "      <th>6</th>\n",
              "      <td>SVR</td>\n",
              "      <td>46.56 (46.34–46.79)</td>\n",
              "      <td>8.58 (8.53–8.63)</td>\n",
              "      <td>34.46 (34.16–34.77)</td>\n",
              "      <td>10.95 (10.89–11.01)</td>\n",
              "    </tr>\n",
              "    <tr>\n",
              "      <th>7</th>\n",
              "      <td>Stacked_RR</td>\n",
              "      <td>46.01 (45.74–46.28)</td>\n",
              "      <td>8.63 (8.58–8.68)</td>\n",
              "      <td>33.83 (33.55–34.12)</td>\n",
              "      <td>10.95 (10.89–11.01)</td>\n",
              "    </tr>\n",
              "    <tr>\n",
              "      <th>8</th>\n",
              "      <td>Stacked_SV</td>\n",
              "      <td>46.32 (46.06–46.57)</td>\n",
              "      <td>8.55 (8.51–8.59)</td>\n",
              "      <td>34.45 (34.16–34.75)</td>\n",
              "      <td>10.93 (10.87–10.99)</td>\n",
              "    </tr>\n",
              "    <tr>\n",
              "      <th>9</th>\n",
              "      <td>TPOT10</td>\n",
              "      <td>46.03 (45.76–46.30)</td>\n",
              "      <td>8.61 (8.57–8.66)</td>\n",
              "      <td>33.65 (33.37–33.93)</td>\n",
              "      <td>11.05 (11.00–11.11)</td>\n",
              "    </tr>\n",
              "    <tr>\n",
              "      <th>10</th>\n",
              "      <td>TPOT17</td>\n",
              "      <td>46.03 (45.75–46.30)</td>\n",
              "      <td>8.59 (8.54–8.64)</td>\n",
              "      <td>33.91 (33.65–34.17)</td>\n",
              "      <td>11.01 (10.95–11.07)</td>\n",
              "    </tr>\n",
              "    <tr>\n",
              "      <th>11</th>\n",
              "      <td>TPOT2</td>\n",
              "      <td>46.08 (45.81–46.35)</td>\n",
              "      <td>8.56 (8.52–8.60)</td>\n",
              "      <td>33.53 (33.28–33.78)</td>\n",
              "      <td>11.03 (10.96–11.09)</td>\n",
              "    </tr>\n",
              "    <tr>\n",
              "      <th>12</th>\n",
              "      <td>TPOT_06_12</td>\n",
              "      <td>43.09 (42.83–43.34)</td>\n",
              "      <td>9.38 (9.33–9.43)</td>\n",
              "      <td>32.86 (32.58–33.14)</td>\n",
              "      <td>11.29 (11.23–11.35)</td>\n",
              "    </tr>\n",
              "    <tr>\n",
              "      <th>13</th>\n",
              "      <td>TPOT_06_12_02</td>\n",
              "      <td>41.44 (41.11–41.77)</td>\n",
              "      <td>9.59 (9.53–9.65)</td>\n",
              "      <td>32.32 (32.03–32.62)</td>\n",
              "      <td>11.63 (11.56–11.69)</td>\n",
              "    </tr>\n",
              "    <tr>\n",
              "      <th>14</th>\n",
              "      <td>TPOT_06_12_03</td>\n",
              "      <td>40.54 (40.15–40.92)</td>\n",
              "      <td>9.96 (9.88–10.04)</td>\n",
              "      <td>32.37 (32.08–32.66)</td>\n",
              "      <td>11.35 (11.29–11.42)</td>\n",
              "    </tr>\n",
              "    <tr>\n",
              "      <th>15</th>\n",
              "      <td>TPOT_06_13_01</td>\n",
              "      <td>41.75 (41.39–42.11)</td>\n",
              "      <td>9.64 (9.56–9.72)</td>\n",
              "      <td>32.53 (32.25–32.82)</td>\n",
              "      <td>11.39 (11.33–11.45)</td>\n",
              "    </tr>\n",
              "    <tr>\n",
              "      <th>16</th>\n",
              "      <td>TPOT_06_13_02</td>\n",
              "      <td>42.82 (42.56–43.08)</td>\n",
              "      <td>9.43 (9.38–9.48)</td>\n",
              "      <td>32.67 (32.37–32.97)</td>\n",
              "      <td>11.33 (11.27–11.40)</td>\n",
              "    </tr>\n",
              "  </tbody>\n",
              "</table>\n",
              "</div>"
            ]
          },
          "metadata": {
            "tags": []
          },
          "execution_count": 55
        }
      ]
    },
    {
      "cell_type": "code",
      "metadata": {
        "id": "mEvN6NWaH3La",
        "colab_type": "code",
        "outputId": "cd081a30-5a02-4ac1-9d99-8d00ea561e48",
        "colab": {
          "base_uri": "https://localhost:8080/",
          "height": 442
        }
      },
      "source": [
        "print(df_final.to_latex(index=False, bold_rows=True, na_rep='-'))"
      ],
      "execution_count": 0,
      "outputs": [
        {
          "output_type": "stream",
          "text": [
            "\\begin{tabular}{lllll}\n",
            "\\toprule\n",
            "          IWPC & \\multicolumn{2}{l}{PathCare} \\\\\n",
            "     Estimator &                 PW20 &                MAE &                 PW20 &                  MAE \\\\\n",
            "\\midrule\n",
            "           BRT &  45.32 (45.04–45.60) &   8.75 (8.70–8.80) &  33.61 (33.32–33.89) &  10.99 (10.93–11.05) \\\\\n",
            "           GBT &  46.31 (46.02–46.60) &   8.67 (8.63–8.71) &  33.35 (33.03–33.66) &  10.99 (10.92–11.06) \\\\\n",
            "            LR &  45.99 (45.75–46.23) &   8.59 (8.54–8.64) &  34.08 (33.76–34.40) &  10.98 (10.91–11.04) \\\\\n",
            "            NN &  43.12 (42.86–43.38) &   9.36 (9.31–9.40) &  33.79 (33.48–34.09) &  11.07 (11.01–11.13) \\\\\n",
            "            RR &  45.96 (45.70–46.21) &   8.57 (8.52–8.61) &  33.99 (33.67–34.30) &  10.98 (10.92–11.04) \\\\\n",
            "            SV &  46.41 (46.16–46.67) &   8.58 (8.53–8.62) &  34.40 (34.16–34.65) &  10.93 (10.87–10.99) \\\\\n",
            "           SVR &  46.56 (46.34–46.79) &   8.58 (8.53–8.63) &  34.46 (34.16–34.77) &  10.95 (10.89–11.01) \\\\\n",
            "    Stacked\\_RR &  46.01 (45.74–46.28) &   8.63 (8.58–8.68) &  33.83 (33.55–34.12) &  10.95 (10.89–11.01) \\\\\n",
            "    Stacked\\_SV &  46.32 (46.06–46.57) &   8.55 (8.51–8.59) &  34.45 (34.16–34.75) &  10.93 (10.87–10.99) \\\\\n",
            "        TPOT10 &  46.03 (45.76–46.30) &   8.61 (8.57–8.66) &  33.65 (33.37–33.93) &  11.05 (11.00–11.11) \\\\\n",
            "        TPOT17 &  46.03 (45.75–46.30) &   8.59 (8.54–8.64) &  33.91 (33.65–34.17) &  11.01 (10.95–11.07) \\\\\n",
            "         TPOT2 &  46.08 (45.81–46.35) &   8.56 (8.52–8.60) &  33.53 (33.28–33.78) &  11.03 (10.96–11.09) \\\\\n",
            "    TPOT\\_06\\_12 &  43.09 (42.83–43.34) &   9.38 (9.33–9.43) &  32.86 (32.58–33.14) &  11.29 (11.23–11.35) \\\\\n",
            " TPOT\\_06\\_12\\_02 &  41.44 (41.11–41.77) &   9.59 (9.53–9.65) &  32.32 (32.03–32.62) &  11.63 (11.56–11.69) \\\\\n",
            " TPOT\\_06\\_12\\_03 &  40.54 (40.15–40.92) &  9.96 (9.88–10.04) &  32.37 (32.08–32.66) &  11.35 (11.29–11.42) \\\\\n",
            " TPOT\\_06\\_13\\_01 &  41.75 (41.39–42.11) &   9.64 (9.56–9.72) &  32.53 (32.25–32.82) &  11.39 (11.33–11.45) \\\\\n",
            " TPOT\\_06\\_13\\_02 &  42.82 (42.56–43.08) &   9.43 (9.38–9.48) &  32.67 (32.37–32.97) &  11.33 (11.27–11.40) \\\\\n",
            "\\bottomrule\n",
            "\\end{tabular}\n",
            "\n"
          ],
          "name": "stdout"
        }
      ]
    },
    {
      "cell_type": "markdown",
      "metadata": {
        "id": "a-Dhm7zWKIX6",
        "colab_type": "text"
      },
      "source": [
        "Export the raw results for later analysis."
      ]
    },
    {
      "cell_type": "code",
      "metadata": {
        "id": "AxGp3DzlHuYA",
        "colab_type": "code",
        "colab": {}
      },
      "source": [
        "iwpc_results.to_csv('iwpc_results.csv')\n",
        "path_results.to_csv('path_results.csv')"
      ],
      "execution_count": 0,
      "outputs": []
    },
    {
      "cell_type": "markdown",
      "metadata": {
        "id": "g2l23BW_trnk",
        "colab_type": "text"
      },
      "source": [
        "**Copyright (C) 2019 Gianluca Truda**\n",
        "\n",
        "This program is free software: you can redistribute it and/or modify it under the terms of the GNU General Public License as published by the Free Software Foundation, either version 3 of the License, or (at your option) any later version. This program is distributed in the hope that it will be useful, but WITHOUT ANY WARRANTY; without even the implied warranty of MERCHANTABILITY or FITNESS FOR A PARTICULAR PURPOSE. See the GNU General Public License for more details. You should have received a copy of the GNU General Public License along with this program. If not, see https://www.gnu.org/licenses/.\n",
        "\n"
      ]
    }
  ]
}